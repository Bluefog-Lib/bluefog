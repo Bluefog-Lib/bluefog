{
 "cells": [
  {
   "cell_type": "markdown",
   "metadata": {},
   "source": [
    "# Using ipython cluster with jupyter notebook\n",
    "\n",
    "## Prerequisites: \n",
    "Installed OpenMPI and BlueFog in your system.\n",
    "Then, you need to setup your jupyter notebook with ipyparallel enabled:\n",
    "- `pip install jupyter ipyparallel`\n",
    "- `ipcluster nbextension enable`\n",
    "- `pip install jupyter_contrib_nbextensions`\n",
    "- `jupyter contrib nbextension install --user`\n",
    "\n",
    "## Step 1: Start jupyter notebook\n",
    "`jupyter notebook`\n",
    "\n",
    "## Step 2: Start the ipcluster with MPI as engine launcher through the command like\n",
    "`ipcluster start -n 4 --engines=MPI`\n",
    "\n",
    "Note: you cannot start with default engine. In that case, BlueFog processes don't know how to communicate with each other.\n",
    "\n",
    "### (optional) Manually start ipengine\n",
    "Start the ipcontroller first `ipconfig [--profile=xx]`, then use mpirun to start the ipython engines: `mpirun -np 16 -H machine1:4,machine`"
   ]
  },
  {
   "cell_type": "code",
   "execution_count": 1,
   "metadata": {
    "ExecuteTime": {
     "end_time": "2020-12-19T08:24:09.994280Z",
     "start_time": "2020-12-19T08:24:08.824708Z"
    }
   },
   "outputs": [],
   "source": [
    "import ipyparallel as ipp\n",
    "import numpy as np\n",
    "import torch\n",
    "import matplotlib.pyplot as plt\n",
    "%matplotlib inline"
   ]
  },
  {
   "cell_type": "markdown",
   "metadata": {},
   "source": [
    "Connect to client. `rc` is the key to communicate with this notebook (driver) and the clients (workers).\n",
    "Depending on how many processes you starts, the length of rc will be the same number\""
   ]
  },
  {
   "cell_type": "code",
   "execution_count": 2,
   "metadata": {
    "ExecuteTime": {
     "end_time": "2020-12-19T08:24:11.348068Z",
     "start_time": "2020-12-19T08:24:11.095736Z"
    }
   },
   "outputs": [
    {
     "data": {
      "text/plain": [
       "[0, 1, 2, 3]"
      ]
     },
     "execution_count": 2,
     "metadata": {},
     "output_type": "execute_result"
    }
   ],
   "source": [
    "rc = ipp.Client()\n",
    "rc.ids"
   ]
  },
  {
   "cell_type": "markdown",
   "metadata": {},
   "source": [
    "## px magic command\n",
    "\n",
    "`px` -- parallel execution. `%px` for one line and `%%px` for whole blocks.\n",
    "\n",
    "The code under the `px` env will be executed into all each worker in parallel instead of running in this notebook.\n",
    "It is important to rememebr that each worker are one seperated IPython environment as well.\n",
    "\n",
    "The following is hello-world example to work with bluefog in jupyter notebook, which is already sufficient for most  usage cases. You can find more advanced usage of `px` in the [document page](https://ipyparallel.readthedocs.io/en/latest/magics.html).\n"
   ]
  },
  {
   "cell_type": "code",
   "execution_count": 3,
   "metadata": {
    "ExecuteTime": {
     "end_time": "2020-12-19T08:24:15.297671Z",
     "start_time": "2020-12-19T08:24:13.976914Z"
    }
   },
   "outputs": [
    {
     "name": "stdout",
     "output_type": "stream",
     "text": [
      "[stdout:0] Hello, I am 2 among 4 processes\n",
      "[stdout:1] Hello, I am 3 among 4 processes\n",
      "[stdout:2] Hello, I am 1 among 4 processes\n",
      "[stdout:3] Hello, I am 0 among 4 processes\n"
     ]
    }
   ],
   "source": [
    "%%px\n",
    "import bluefog.torch as bf\n",
    "\n",
    "bf.init()\n",
    "print(f\"Hello, I am {bf.rank()} among {bf.size()} processes\")"
   ]
  },
  {
   "cell_type": "markdown",
   "metadata": {},
   "source": [
    "# Moving the data/objects between workers and driver\n",
    "\n",
    "We can easily extract or pass the data between workers and driver.\n",
    "The key componenet is Direct View class.\n",
    "Using `dview.push()` and `dview.pull()`, it transmits the data between workers and driver."
   ]
  },
  {
   "cell_type": "code",
   "execution_count": 13,
   "metadata": {},
   "outputs": [],
   "source": [
    "%%px\n",
    "import torch\n",
    "x = torch.FloatTensor([bf.rank()])"
   ]
  },
  {
   "cell_type": "code",
   "execution_count": 78,
   "metadata": {},
   "outputs": [
    {
     "data": {
      "text/plain": [
       "tensor([-0.0547,  0.0653, -0.4044,  0.1698, -0.5502,  0.0987, -0.1377, -0.6541,\n",
       "        -0.1667, -0.1069], dtype=torch.float64)"
      ]
     },
     "execution_count": 78,
     "metadata": {},
     "output_type": "execute_result"
    }
   ],
   "source": [
    "dview = rc[:] # A DirectView of all engines\n",
    "dview.block=True\n",
    "x_at_rank0 = dview.pull('x', targets=0)\n",
    "x_at_rank0"
   ]
  },
  {
   "cell_type": "code",
   "execution_count": 79,
   "metadata": {},
   "outputs": [
    {
     "data": {
      "text/plain": [
       "[tensor([-0.0547,  0.0653, -0.4044,  0.1698, -0.5502,  0.0987, -0.1377, -0.6541,\n",
       "         -0.1667, -0.1069], dtype=torch.float64),\n",
       " tensor([-0.0547,  0.0653, -0.4044,  0.1698, -0.5502,  0.0987, -0.1377, -0.6541,\n",
       "         -0.1667, -0.1069], dtype=torch.float64)]"
      ]
     },
     "execution_count": 79,
     "metadata": {},
     "output_type": "execute_result"
    }
   ],
   "source": [
    "xs_at_1_and_2_handle = dview.pull('x', block=False, targets=[1, 2])\n",
    "xs_at_1_and_2_handle.get()"
   ]
  },
  {
   "cell_type": "code",
   "execution_count": 16,
   "metadata": {},
   "outputs": [
    {
     "data": {
      "text/plain": [
       "[None, None, None, None, None, None, None, None, None, None, None, None]"
      ]
     },
     "execution_count": 16,
     "metadata": {},
     "output_type": "execute_result"
    }
   ],
   "source": [
    "# Push the data into all workers\n",
    "dview.push({'seed': 123}, block=True)"
   ]
  },
  {
   "cell_type": "code",
   "execution_count": 17,
   "metadata": {},
   "outputs": [
    {
     "name": "stdout",
     "output_type": "stream",
     "text": [
      "[stdout:0] I received seed as value:  123\n",
      "[stdout:1] I received seed as value:  123\n",
      "[stdout:2] I received seed as value:  123\n",
      "[stdout:3] I received seed as value:  123\n",
      "[stdout:4] I received seed as value:  123\n",
      "[stdout:5] I received seed as value:  123\n",
      "[stdout:6] I received seed as value:  123\n",
      "[stdout:7] I received seed as value:  123\n",
      "[stdout:8] I received seed as value:  123\n",
      "[stdout:9] I received seed as value:  123\n",
      "[stdout:10] I received seed as value:  123\n",
      "[stdout:11] I received seed as value:  123\n"
     ]
    }
   ],
   "source": [
    "%%px\n",
    "print(\"I received seed as value: \", seed)"
   ]
  },
  {
   "cell_type": "markdown",
   "metadata": {},
   "source": [
    "# A simple average-consensus example\n",
    "\n",
    "With px magic command and direct-view, we are good to run and plot a simple average-consensus example"
   ]
  },
  {
   "cell_type": "code",
   "execution_count": 18,
   "metadata": {},
   "outputs": [],
   "source": [
    "%%px\n",
    "data_size = 10\n",
    "torch.random.manual_seed(seed * bf.rank())\n",
    "max_iters = 100"
   ]
  },
  {
   "cell_type": "code",
   "execution_count": 19,
   "metadata": {},
   "outputs": [],
   "source": [
    "%%px\n",
    "x = torch.randn(data_size, dtype=torch.double)\n",
    "x_bar = bf.allreduce(x, average=True)\n",
    "mse = [torch.norm(x-x_bar, p=2) / torch.norm(x_bar, p=2)]\n",
    "for ite in range(max_iters):\n",
    "    x = bf.neighbor_allreduce(x, name='x')\n",
    "    mse.append(torch.norm(x-x_bar, p=2) / torch.norm(x_bar, p=2))"
   ]
  },
  {
   "cell_type": "code",
   "execution_count": 20,
   "metadata": {},
   "outputs": [],
   "source": [
    "mse_0 = dview.pull('mse', block=True, targets=0)"
   ]
  },
  {
   "cell_type": "code",
   "execution_count": 21,
   "metadata": {},
   "outputs": [
    {
     "data": {
      "text/plain": [
       "[<matplotlib.lines.Line2D at 0x7f38681e6a50>]"
      ]
     },
     "execution_count": 21,
     "metadata": {},
     "output_type": "execute_result"
    },
    {
     "data": {
      "image/png": "[encoded data removed]",
      "text/plain": [
       "<Figure size 432x288 with 1 Axes>"
      ]
     },
     "metadata": {
      "needs_background": "light"
     },
     "output_type": "display_data"
    }
   ],
   "source": [
    "plt.semilogy(mse_0)"
   ]
  },
  {
   "cell_type": "code",
   "execution_count": 22,
   "metadata": {},
   "outputs": [
    {
     "data": {
      "text/plain": [
       "[output:0]"
      ]
     },
     "metadata": {},
     "output_type": "display_data"
    },
    {
     "data": {
      "image/png": "[encoded data removed]",
      "text/plain": [
       "<Figure size 432x288 with 1 Axes>"
      ]
     },
     "metadata": {
      "engine": 0,
      "needs_background": "light"
     },
     "output_type": "display_data"
    },
    {
     "data": {
      "text/plain": [
       "[output:1]"
      ]
     },
     "metadata": {},
     "output_type": "display_data"
    },
    {
     "data": {
      "image/png": "[encoded data removed]",
      "text/plain": [
       "<Figure size 432x288 with 1 Axes>"
      ]
     },
     "metadata": {
      "engine": 1,
      "needs_background": "light"
     },
     "output_type": "display_data"
    },
    {
     "data": {
      "text/plain": [
       "[output:2]"
      ]
     },
     "metadata": {},
     "output_type": "display_data"
    },
    {
     "data": {
      "image/png": "[encoded data removed]",
      "text/plain": [
       "<Figure size 432x288 with 1 Axes>"
      ]
     },
     "metadata": {
      "engine": 2,
      "needs_background": "light"
     },
     "output_type": "display_data"
    }
   ],
   "source": [
    "%%px  --targets 0:3\n",
    "import matplotlib.pyplot as plt\n",
    "%matplotlib inline\n",
    "plt.semilogy(mse)\n",
    "plt.show()"
   ]
  },
  {
   "cell_type": "markdown",
   "metadata": {},
   "source": [
    "# Decentralized training on MNIST with BlueFog"
   ]
  },
  {
   "cell_type": "code",
   "execution_count": 35,
   "metadata": {},
   "outputs": [
    {
     "data": {
      "text/plain": [
       "[None, None, None, None, None, None, None, None, None, None, None, None]"
      ]
     },
     "execution_count": 35,
     "metadata": {},
     "output_type": "execute_result"
    }
   ],
   "source": [
    "import os\n",
    "dview.push({'batch_size': 64,\n",
    "            'test_batch_size': 1000,\n",
    "            'file_loc': os.path.abspath('')}, block=True)"
   ]
  },
  {
   "cell_type": "code",
   "execution_count": 36,
   "metadata": {},
   "outputs": [],
   "source": [
    "%%px\n",
    "from bluefog.common import topology_util\n",
    "import bluefog.torch as bf\n",
    "import os\n",
    "import sys\n",
    "\n",
    "import torch.nn as nn\n",
    "import torch.nn.functional as F\n",
    "import torch.optim as optim\n",
    "import torch.utils.data.distributed\n",
    "from torchvision import datasets, transforms\n",
    "\n",
    "# Load data distributed \n",
    "data_folder_loc = os.path.join(\n",
    "    os.path.dirname(file_loc), \"..\")\n",
    "train_dataset = datasets.MNIST(\n",
    "    os.path.join(data_folder_loc, \"data\", \"data-%d\" % bf.rank()),\n",
    "    train=True,\n",
    "    download=True,\n",
    "    transform=transforms.Compose(\n",
    "        [transforms.ToTensor(), transforms.Normalize((0.1307,), (0.3081,))]\n",
    "    ),\n",
    ")\n",
    "\n",
    "# Bluefog: use DistributedSampler to partition the training data.\n",
    "train_sampler = torch.utils.data.distributed.DistributedSampler(\n",
    "    train_dataset, num_replicas=bf.size(), rank=bf.rank()\n",
    ")\n",
    "train_loader = torch.utils.data.DataLoader(\n",
    "    train_dataset, batch_size=batch_size, sampler=train_sampler\n",
    ")\n",
    "\n",
    "test_dataset = datasets.MNIST(\n",
    "    os.path.join(data_folder_loc, \"data\", \"data-%d\" % bf.rank()),\n",
    "    train=False,\n",
    "    transform=transforms.Compose(\n",
    "        [transforms.ToTensor(), transforms.Normalize((0.1307,), (0.3081,))]\n",
    "    ),\n",
    ")\n",
    "test_sampler = None\n",
    "# Bluefog: use DistributedSampler to partition the test data.\n",
    "test_sampler = torch.utils.data.distributed.DistributedSampler(\n",
    "    test_dataset, num_replicas=bf.size(), rank=bf.rank()\n",
    ")\n",
    "test_loader = torch.utils.data.DataLoader(\n",
    "    test_dataset, batch_size=test_batch_size, sampler=test_sampler\n",
    ")\n"
   ]
  },
  {
   "cell_type": "code",
   "execution_count": 108,
   "metadata": {},
   "outputs": [],
   "source": [
    "%%px\n",
    "lr = 0.01\n",
    "\n",
    "# Use LeNet and \n",
    "class Net(nn.Module):\n",
    "    def __init__(self):\n",
    "        super(Net, self).__init__()\n",
    "        self.conv1 = nn.Conv2d(1, 10, kernel_size=5)\n",
    "        self.conv2 = nn.Conv2d(10, 20, kernel_size=5)\n",
    "        self.conv2_drop = nn.Dropout2d()\n",
    "        self.fc1 = nn.Linear(320, 50)\n",
    "        self.fc2 = nn.Linear(50, 10)\n",
    "\n",
    "    def forward(self, x):\n",
    "        x = F.relu(F.max_pool2d(self.conv1(x), 2))\n",
    "        x = F.relu(F.max_pool2d(self.conv2_drop(self.conv2(x)), 2))\n",
    "        x = x.view(-1, 320)\n",
    "        x = F.relu(self.fc1(x))\n",
    "        x = F.dropout(x, training=self.training)\n",
    "        x = self.fc2(x)\n",
    "        return F.log_softmax(x, dim=0)\n",
    "\n",
    "\n",
    "model = Net()\n",
    "\n",
    "# Bluefog: scale learning rate by the number of process.\n",
    "optimizer = optim.SGD(model.parameters(), lr=lr * bf.size(), \n",
    "                      momentum=0.5)\n",
    "\n",
    "# Bluefog: broadcast parameters & optimizer state.\n",
    "bf.broadcast_parameters(model.state_dict(), root_rank=0)\n",
    "bf.broadcast_optimizer_state(optimizer, root_rank=0)"
   ]
  },
  {
   "cell_type": "code",
   "execution_count": 109,
   "metadata": {},
   "outputs": [],
   "source": [
    "%%px\n",
    "# Build decentralized ATC optimizer\n",
    "optimizer = bf.DistributedAdaptThenCombineOptimizer(\n",
    "                optimizer, \n",
    "                model=model,\n",
    "                communication_type=bf.CommunicationType.neighbor_allreduce)"
   ]
  },
  {
   "cell_type": "code",
   "execution_count": 95,
   "metadata": {},
   "outputs": [],
   "source": [
    "%%px\n",
    "# Test the accuracy over all models\n",
    "def metric_average(val, name):\n",
    "    tensor = torch.tensor(val)\n",
    "    avg_tensor = bf.allreduce(tensor, name=name)\n",
    "    return avg_tensor.item()\n",
    "\n",
    "def test():\n",
    "    model.eval()\n",
    "    test_loss = 0.0\n",
    "    test_accuracy = 0.0\n",
    "    for data, target in test_loader:\n",
    "        output = model(data)\n",
    "        # sum up batch loss\n",
    "        test_loss += F.nll_loss(output, target, reduction='sum').item()\n",
    "        # get the index of the max log-probability\n",
    "        pred = output.data.max(1, keepdim=True)[1]\n",
    "        test_accuracy += pred.eq(target.data.view_as(pred)\n",
    "                                 ).cpu().float().sum().item()\n",
    "\n",
    "    # Bluefog: use test_sampler to determine the number of examples in\n",
    "    # this worker's partition.\n",
    "    test_loss /= len(test_sampler) if test_sampler else len(test_dataset)\n",
    "    test_accuracy /= len(test_sampler) if test_sampler else len(test_dataset)\n",
    "\n",
    "    # Bluefog: average metric values across workers.\n",
    "    test_loss = metric_average(test_loss, \"avg_loss\")\n",
    "    test_accuracy = metric_average(test_accuracy, \"avg_accuracy\")\n",
    "\n",
    "    # Bluefog: print output only on first rank.\n",
    "    if bf.rank() == 0:\n",
    "        print(\n",
    "            \"\\nTest set: Average loss: {:.4f}, Accuracy: {:.2f}%\\n\".format(\n",
    "                test_loss, 100.0 * test_accuracy\n",
    "            ), flush=True\n",
    "        )\n",
    "    return test_loss, test_accuracy"
   ]
  },
  {
   "cell_type": "code",
   "execution_count": 110,
   "metadata": {},
   "outputs": [],
   "source": [
    "%%px\n",
    "# train the model\n",
    "def train(epoch):\n",
    "    loss_trace = []\n",
    "    model.train()\n",
    "    # Bluefog: set epoch to sampler for shuffling.\n",
    "    train_sampler.set_epoch(epoch)\n",
    "    for batch_idx, (data, target) in enumerate(train_loader):\n",
    "        optimizer.zero_grad()\n",
    "        output = model(data)\n",
    "        loss = F.nll_loss(output, target)\n",
    "        loss.backward()\n",
    "        optimizer.step()\n",
    "        if (batch_idx % 10 == 0) and bf.rank() == 0:\n",
    "            # Bluefog: use train_sampler to determine the number of examples in\n",
    "            # this worker's partition.\n",
    "            print(\n",
    "                \"[{}] Train Epoch: {} [{}/{} ({:.0f}%)]\\tLoss: {:.6f}\".format(\n",
    "                    bf.rank(),\n",
    "                    epoch,\n",
    "                    batch_idx * len(data),\n",
    "                    len(train_sampler),\n",
    "                    100.0 * batch_idx / len(train_loader),\n",
    "                    loss.item(),\n",
    "                ), flush=True\n",
    "            )\n",
    "            loss_trace.append(loss)\n",
    "    return loss_trace"
   ]
  },
  {
   "cell_type": "markdown",
   "metadata": {},
   "source": [
    "By default, the output (like print, stdout, stderr) of worker, i.e. the code in the px block, will be shown in the block after the execution is done. Although there is circumvention through the async mode, it is tricky to write the code. One of the easies solution is to set the control loop in the driver and leave the step of each loop in the `px` env. We use the dview push and pull to transfer the control information."
   ]
  },
  {
   "cell_type": "code",
   "execution_count": 111,
   "metadata": {},
   "outputs": [
    {
     "name": "stdout",
     "output_type": "stream",
     "text": [
      "[stdout:0] \n",
      "[0] Train Epoch: 0 [0/5000 (0%)]\tLoss: 4.189327\n",
      "[0] Train Epoch: 0 [640/5000 (13%)]\tLoss: 3.794176\n",
      "[0] Train Epoch: 0 [1280/5000 (25%)]\tLoss: 3.288463\n",
      "[0] Train Epoch: 0 [1920/5000 (38%)]\tLoss: 3.012653\n",
      "[0] Train Epoch: 0 [2560/5000 (51%)]\tLoss: 2.909175\n",
      "[0] Train Epoch: 0 [3200/5000 (63%)]\tLoss: 2.830475\n",
      "[0] Train Epoch: 0 [3840/5000 (76%)]\tLoss: 2.498777\n",
      "[0] Train Epoch: 0 [4480/5000 (89%)]\tLoss: 2.548792\n",
      "[stdout:0] \n",
      "Test set: Average loss: 4.7473, Accuracy: 93.30%\n",
      "\n",
      "[stdout:0] \n",
      "[0] Train Epoch: 1 [0/5000 (0%)]\tLoss: 2.654948\n",
      "[0] Train Epoch: 1 [640/5000 (13%)]\tLoss: 2.646918\n",
      "[0] Train Epoch: 1 [1280/5000 (25%)]\tLoss: 2.434303\n",
      "[0] Train Epoch: 1 [1920/5000 (38%)]\tLoss: 2.431326\n",
      "[0] Train Epoch: 1 [2560/5000 (51%)]\tLoss: 2.453385\n",
      "[0] Train Epoch: 1 [3200/5000 (63%)]\tLoss: 2.583251\n",
      "[0] Train Epoch: 1 [3840/5000 (76%)]\tLoss: 2.241596\n",
      "[0] Train Epoch: 1 [4480/5000 (89%)]\tLoss: 2.239737\n",
      "[stdout:0] \n",
      "Test set: Average loss: 4.6355, Accuracy: 95.33%\n",
      "\n",
      "[stdout:0] \n",
      "[0] Train Epoch: 2 [0/5000 (0%)]\tLoss: 2.520657\n",
      "[0] Train Epoch: 2 [640/5000 (13%)]\tLoss: 2.387730\n",
      "[0] Train Epoch: 2 [1280/5000 (25%)]\tLoss: 2.171425\n",
      "[0] Train Epoch: 2 [1920/5000 (38%)]\tLoss: 2.472666\n",
      "[0] Train Epoch: 2 [2560/5000 (51%)]\tLoss: 2.257248\n",
      "[0] Train Epoch: 2 [3200/5000 (63%)]\tLoss: 2.350844\n",
      "[0] Train Epoch: 2 [3840/5000 (76%)]\tLoss: 2.507523\n",
      "[0] Train Epoch: 2 [4480/5000 (89%)]\tLoss: 2.462106\n",
      "[stdout:0] \n",
      "Test set: Average loss: 4.5727, Accuracy: 96.30%\n",
      "\n",
      "[stdout:0] \n",
      "[0] Train Epoch: 3 [0/5000 (0%)]\tLoss: 2.312887\n",
      "[0] Train Epoch: 3 [640/5000 (13%)]\tLoss: 2.213149\n",
      "[0] Train Epoch: 3 [1280/5000 (25%)]\tLoss: 2.286237\n",
      "[0] Train Epoch: 3 [1920/5000 (38%)]\tLoss: 2.112457\n",
      "[0] Train Epoch: 3 [2560/5000 (51%)]\tLoss: 2.436048\n",
      "[0] Train Epoch: 3 [3200/5000 (63%)]\tLoss: 2.412619\n",
      "[0] Train Epoch: 3 [3840/5000 (76%)]\tLoss: 2.285980\n",
      "[0] Train Epoch: 3 [4480/5000 (89%)]\tLoss: 2.350837\n",
      "[stdout:0] \n",
      "Test set: Average loss: 4.5618, Accuracy: 96.69%\n",
      "\n",
      "[stdout:0] \n",
      "[0] Train Epoch: 4 [0/5000 (0%)]\tLoss: 2.212179\n",
      "[0] Train Epoch: 4 [640/5000 (13%)]\tLoss: 2.223631\n",
      "[0] Train Epoch: 4 [1280/5000 (25%)]\tLoss: 2.230601\n",
      "[0] Train Epoch: 4 [1920/5000 (38%)]\tLoss: 2.269842\n",
      "[0] Train Epoch: 4 [2560/5000 (51%)]\tLoss: 2.371376\n",
      "[0] Train Epoch: 4 [3200/5000 (63%)]\tLoss: 2.282362\n",
      "[0] Train Epoch: 4 [3840/5000 (76%)]\tLoss: 2.217196\n",
      "[0] Train Epoch: 4 [4480/5000 (89%)]\tLoss: 2.271882\n",
      "[stdout:0] \n",
      "Test set: Average loss: 4.5399, Accuracy: 97.17%\n",
      "\n",
      "[stdout:0] \n",
      "[0] Train Epoch: 5 [0/5000 (0%)]\tLoss: 2.129302\n",
      "[0] Train Epoch: 5 [640/5000 (13%)]\tLoss: 2.201592\n",
      "[0] Train Epoch: 5 [1280/5000 (25%)]\tLoss: 2.334424\n",
      "[0] Train Epoch: 5 [1920/5000 (38%)]\tLoss: 2.258972\n",
      "[0] Train Epoch: 5 [2560/5000 (51%)]\tLoss: 2.471565\n",
      "[0] Train Epoch: 5 [3200/5000 (63%)]\tLoss: 2.326355\n",
      "[0] Train Epoch: 5 [3840/5000 (76%)]\tLoss: 2.366907\n",
      "[0] Train Epoch: 5 [4480/5000 (89%)]\tLoss: 2.205762\n",
      "[stdout:0] \n",
      "Test set: Average loss: 4.5342, Accuracy: 97.30%\n",
      "\n",
      "[stdout:0] \n",
      "[0] Train Epoch: 6 [0/5000 (0%)]\tLoss: 2.318146\n",
      "[0] Train Epoch: 6 [640/5000 (13%)]\tLoss: 2.121930\n",
      "[0] Train Epoch: 6 [1280/5000 (25%)]\tLoss: 2.045162\n",
      "[0] Train Epoch: 6 [1920/5000 (38%)]\tLoss: 2.246882\n",
      "[0] Train Epoch: 6 [2560/5000 (51%)]\tLoss: 2.298357\n",
      "[0] Train Epoch: 6 [3200/5000 (63%)]\tLoss: 2.098409\n",
      "[0] Train Epoch: 6 [3840/5000 (76%)]\tLoss: 2.151887\n",
      "[0] Train Epoch: 6 [4480/5000 (89%)]\tLoss: 2.238594\n",
      "[stdout:0] \n",
      "Test set: Average loss: 4.5377, Accuracy: 97.23%\n",
      "\n",
      "[stdout:0] \n",
      "[0] Train Epoch: 7 [0/5000 (0%)]\tLoss: 2.204515\n",
      "[0] Train Epoch: 7 [640/5000 (13%)]\tLoss: 2.229003\n",
      "[0] Train Epoch: 7 [1280/5000 (25%)]\tLoss: 2.273467\n",
      "[0] Train Epoch: 7 [1920/5000 (38%)]\tLoss: 2.251243\n",
      "[0] Train Epoch: 7 [2560/5000 (51%)]\tLoss: 2.118493\n",
      "[0] Train Epoch: 7 [3200/5000 (63%)]\tLoss: 2.106238\n",
      "[0] Train Epoch: 7 [3840/5000 (76%)]\tLoss: 2.068120\n",
      "[0] Train Epoch: 7 [4480/5000 (89%)]\tLoss: 2.296970\n",
      "[stdout:0] \n",
      "Test set: Average loss: 4.5300, Accuracy: 97.64%\n",
      "\n",
      "[stdout:0] \n",
      "[0] Train Epoch: 8 [0/5000 (0%)]\tLoss: 2.122547\n",
      "[0] Train Epoch: 8 [640/5000 (13%)]\tLoss: 2.155781\n",
      "[0] Train Epoch: 8 [1280/5000 (25%)]\tLoss: 2.034182\n",
      "[0] Train Epoch: 8 [1920/5000 (38%)]\tLoss: 2.134800\n",
      "[0] Train Epoch: 8 [2560/5000 (51%)]\tLoss: 2.117805\n",
      "[0] Train Epoch: 8 [3200/5000 (63%)]\tLoss: 2.025309\n",
      "[0] Train Epoch: 8 [3840/5000 (76%)]\tLoss: 2.149210\n",
      "[0] Train Epoch: 8 [4480/5000 (89%)]\tLoss: 2.140472\n",
      "[stdout:0] \n",
      "Test set: Average loss: 4.5134, Accuracy: 97.71%\n",
      "\n",
      "[stdout:0] \n",
      "[0] Train Epoch: 9 [0/5000 (0%)]\tLoss: 2.241788\n",
      "[0] Train Epoch: 9 [640/5000 (13%)]\tLoss: 2.064104\n",
      "[0] Train Epoch: 9 [1280/5000 (25%)]\tLoss: 2.151788\n",
      "[0] Train Epoch: 9 [1920/5000 (38%)]\tLoss: 2.137096\n",
      "[0] Train Epoch: 9 [2560/5000 (51%)]\tLoss: 2.180725\n",
      "[0] Train Epoch: 9 [3200/5000 (63%)]\tLoss: 2.197312\n",
      "[0] Train Epoch: 9 [3840/5000 (76%)]\tLoss: 2.147838\n",
      "[0] Train Epoch: 9 [4480/5000 (89%)]\tLoss: 2.093740\n",
      "[stdout:0] \n",
      "Test set: Average loss: 4.5244, Accuracy: 97.68%\n",
      "\n"
     ]
    }
   ],
   "source": [
    "loss_records = []\n",
    "test_accuracy = []\n",
    "test_loss_records = []\n",
    "for epoch in range(10):\n",
    "    dview.push({\"epoch\": epoch}, block=True)\n",
    "    %px loss_trace = train(epoch)\n",
    "    %px test_loss, test_accuracy = test()\n",
    "    loss_records.extend(dview.pull(\"loss_trace\", targets=0, block=True))\n",
    "    test_loss_records.append(dview.pull(\"test_loss\", targets=0, block=True))\n",
    "    test_accuracy.append(dview.pull(\"test_accuracy\", targets=0, block=True))"
   ]
  },
  {
   "cell_type": "code",
   "execution_count": 112,
   "metadata": {},
   "outputs": [
    {
     "data": {
      "text/plain": [
       "[<matplotlib.lines.Line2D at 0x7f384b3e2710>]"
      ]
     },
     "execution_count": 112,
     "metadata": {},
     "output_type": "execute_result"
    },
    {
     "data": {
      "image/png": "[encoded data removed]",
      "text/plain": [
       "<Figure size 432x288 with 1 Axes>"
      ]
     },
     "metadata": {
      "needs_background": "light"
     },
     "output_type": "display_data"
    }
   ],
   "source": [
    "plt.plot(loss_records)"
   ]
  },
  {
   "cell_type": "code",
   "execution_count": 113,
   "metadata": {},
   "outputs": [
    {
     "data": {
      "text/plain": [
       "[<matplotlib.lines.Line2D at 0x7f384b8f7a90>]"
      ]
     },
     "execution_count": 113,
     "metadata": {},
     "output_type": "execute_result"
    },
    {
     "data": {
      "image/png": "[encoded data removed]",
      "text/plain": [
       "<Figure size 432x288 with 1 Axes>"
      ]
     },
     "metadata": {
      "needs_background": "light"
     },
     "output_type": "display_data"
    }
   ],
   "source": [
    "plt.plot(test_accuracy)"
   ]
  },
  {
   "cell_type": "markdown",
   "metadata": {},
   "source": [
    "## Use Dynamic topology strategy with BlueFog"
   ]
  },
  {
   "cell_type": "code",
   "execution_count": 73,
   "metadata": {},
   "outputs": [
    {
     "name": "stdout",
     "output_type": "stream",
     "text": [
      "[stdout:0] \n",
      "[0] Train Epoch: 0 [0/5000 (0%)]\tLoss: 4.151179\n",
      "[0] Train Epoch: 0 [640/5000 (13%)]\tLoss: 3.741813\n",
      "[0] Train Epoch: 0 [1280/5000 (25%)]\tLoss: 3.470672\n",
      "[0] Train Epoch: 0 [1920/5000 (38%)]\tLoss: 3.155444\n",
      "[0] Train Epoch: 0 [2560/5000 (51%)]\tLoss: 2.838640\n",
      "[0] Train Epoch: 0 [3200/5000 (63%)]\tLoss: 2.944534\n",
      "[0] Train Epoch: 0 [3840/5000 (76%)]\tLoss: 2.778820\n",
      "[0] Train Epoch: 0 [4480/5000 (89%)]\tLoss: 2.540092\n",
      "\n",
      "Test set: Average loss: 4.7852, Accuracy: 93.13%\n",
      "\n",
      "[0] Train Epoch: 1 [0/5000 (0%)]\tLoss: 2.232374\n",
      "[0] Train Epoch: 1 [640/5000 (13%)]\tLoss: 2.234714\n",
      "[0] Train Epoch: 1 [1280/5000 (25%)]\tLoss: 2.164183\n",
      "[0] Train Epoch: 1 [1920/5000 (38%)]\tLoss: 2.079394\n",
      "[0] Train Epoch: 1 [2560/5000 (51%)]\tLoss: 2.064090\n",
      "[0] Train Epoch: 1 [3200/5000 (63%)]\tLoss: 2.240178\n",
      "[0] Train Epoch: 1 [3840/5000 (76%)]\tLoss: 2.026830\n",
      "[0] Train Epoch: 1 [4480/5000 (89%)]\tLoss: 2.035603\n",
      "\n",
      "Test set: Average loss: 4.5827, Accuracy: 96.74%\n",
      "\n",
      "[0] Train Epoch: 2 [0/5000 (0%)]\tLoss: 2.042427\n",
      "[0] Train Epoch: 2 [640/5000 (13%)]\tLoss: 2.042441\n",
      "[0] Train Epoch: 2 [1280/5000 (25%)]\tLoss: 2.049424\n",
      "[0] Train Epoch: 2 [1920/5000 (38%)]\tLoss: 2.104999\n",
      "[0] Train Epoch: 2 [2560/5000 (51%)]\tLoss: 2.009398\n",
      "[0] Train Epoch: 2 [3200/5000 (63%)]\tLoss: 2.134929\n",
      "[0] Train Epoch: 2 [3840/5000 (76%)]\tLoss: 2.045218\n",
      "[0] Train Epoch: 2 [4480/5000 (89%)]\tLoss: 2.067067\n",
      "\n",
      "Test set: Average loss: 4.5616, Accuracy: 97.16%\n",
      "\n",
      "[0] Train Epoch: 3 [0/5000 (0%)]\tLoss: 2.058618\n",
      "[0] Train Epoch: 3 [640/5000 (13%)]\tLoss: 1.990351\n",
      "[0] Train Epoch: 3 [1280/5000 (25%)]\tLoss: 2.103193\n",
      "[0] Train Epoch: 3 [1920/5000 (38%)]\tLoss: 2.012195\n",
      "[0] Train Epoch: 3 [2560/5000 (51%)]\tLoss: 2.131289\n",
      "[0] Train Epoch: 3 [3200/5000 (63%)]\tLoss: 2.131307\n",
      "[0] Train Epoch: 3 [3840/5000 (76%)]\tLoss: 2.066757\n",
      "[0] Train Epoch: 3 [4480/5000 (89%)]\tLoss: 1.998271\n",
      "\n",
      "Test set: Average loss: 4.5587, Accuracy: 97.32%\n",
      "\n",
      "[0] Train Epoch: 4 [0/5000 (0%)]\tLoss: 2.047033\n",
      "[0] Train Epoch: 4 [640/5000 (13%)]\tLoss: 1.989196\n",
      "[0] Train Epoch: 4 [1280/5000 (25%)]\tLoss: 2.023767\n",
      "[0] Train Epoch: 4 [1920/5000 (38%)]\tLoss: 2.090343\n",
      "[0] Train Epoch: 4 [2560/5000 (51%)]\tLoss: 2.090288\n",
      "[0] Train Epoch: 4 [3200/5000 (63%)]\tLoss: 2.107147\n",
      "[0] Train Epoch: 4 [3840/5000 (76%)]\tLoss: 2.014797\n",
      "[0] Train Epoch: 4 [4480/5000 (89%)]\tLoss: 2.036010\n",
      "\n",
      "Test set: Average loss: 4.5285, Accuracy: 97.92%\n",
      "\n",
      "[0] Train Epoch: 5 [0/5000 (0%)]\tLoss: 1.991067\n",
      "[0] Train Epoch: 5 [640/5000 (13%)]\tLoss: 2.009242\n",
      "[0] Train Epoch: 5 [1280/5000 (25%)]\tLoss: 2.103188\n",
      "[0] Train Epoch: 5 [1920/5000 (38%)]\tLoss: 2.010200\n",
      "[0] Train Epoch: 5 [2560/5000 (51%)]\tLoss: 2.194990\n",
      "[0] Train Epoch: 5 [3200/5000 (63%)]\tLoss: 2.179487\n",
      "[0] Train Epoch: 5 [3840/5000 (76%)]\tLoss: 2.066754\n",
      "[0] Train Epoch: 5 [4480/5000 (89%)]\tLoss: 2.025573\n",
      "\n",
      "Test set: Average loss: 4.5225, Accuracy: 98.07%\n",
      "\n",
      "[0] Train Epoch: 6 [0/5000 (0%)]\tLoss: 2.127568\n",
      "[0] Train Epoch: 6 [640/5000 (13%)]\tLoss: 1.962623\n",
      "[0] Train Epoch: 6 [1280/5000 (25%)]\tLoss: 1.977381\n",
      "[0] Train Epoch: 6 [1920/5000 (38%)]\tLoss: 2.025376\n",
      "[0] Train Epoch: 6 [2560/5000 (51%)]\tLoss: 2.085252\n",
      "[0] Train Epoch: 6 [3200/5000 (63%)]\tLoss: 1.915970\n",
      "[0] Train Epoch: 6 [3840/5000 (76%)]\tLoss: 1.990475\n",
      "[0] Train Epoch: 6 [4480/5000 (89%)]\tLoss: 2.001813\n",
      "\n",
      "Test set: Average loss: 4.5212, Accuracy: 98.14%\n",
      "\n",
      "[0] Train Epoch: 7 [0/5000 (0%)]\tLoss: 2.016484\n",
      "[0] Train Epoch: 7 [640/5000 (13%)]\tLoss: 2.052128\n",
      "[0] Train Epoch: 7 [1280/5000 (25%)]\tLoss: 2.014096\n",
      "[0] Train Epoch: 7 [1920/5000 (38%)]\tLoss: 2.028223\n",
      "[0] Train Epoch: 7 [2560/5000 (51%)]\tLoss: 1.950342\n",
      "[0] Train Epoch: 7 [3200/5000 (63%)]\tLoss: 1.986053\n",
      "[0] Train Epoch: 7 [3840/5000 (76%)]\tLoss: 1.966697\n",
      "[0] Train Epoch: 7 [4480/5000 (89%)]\tLoss: 2.132841\n",
      "\n",
      "Test set: Average loss: 4.5684, Accuracy: 97.53%\n",
      "\n",
      "[0] Train Epoch: 8 [0/5000 (0%)]\tLoss: 1.970952\n",
      "[0] Train Epoch: 8 [640/5000 (13%)]\tLoss: 2.054979\n",
      "[0] Train Epoch: 8 [1280/5000 (25%)]\tLoss: 1.939343\n",
      "[0] Train Epoch: 8 [1920/5000 (38%)]\tLoss: 2.034274\n",
      "[0] Train Epoch: 8 [2560/5000 (51%)]\tLoss: 1.962177\n",
      "[0] Train Epoch: 8 [3200/5000 (63%)]\tLoss: 1.929085\n",
      "[0] Train Epoch: 8 [3840/5000 (76%)]\tLoss: 1.916760\n",
      "[0] Train Epoch: 8 [4480/5000 (89%)]\tLoss: 1.982341\n",
      "\n",
      "Test set: Average loss: 4.5074, Accuracy: 98.23%\n",
      "\n",
      "[0] Train Epoch: 9 [0/5000 (0%)]\tLoss: 2.085999\n",
      "[0] Train Epoch: 9 [640/5000 (13%)]\tLoss: 1.989600\n",
      "[0] Train Epoch: 9 [1280/5000 (25%)]\tLoss: 1.984127\n",
      "[0] Train Epoch: 9 [1920/5000 (38%)]\tLoss: 2.012358\n",
      "[0] Train Epoch: 9 [2560/5000 (51%)]\tLoss: 2.028921\n",
      "[0] Train Epoch: 9 [3200/5000 (63%)]\tLoss: 2.002841\n",
      "[0] Train Epoch: 9 [3840/5000 (76%)]\tLoss: 2.023444\n",
      "[0] Train Epoch: 9 [4480/5000 (89%)]\tLoss: 1.994494\n",
      "\n",
      "Test set: Average loss: 4.5263, Accuracy: 97.95%\n",
      "\n"
     ]
    }
   ],
   "source": [
    "%%px\n",
    "\n",
    "# dynamic topology \n",
    "dynamic_neighbor_allreduce_gen = topology_util.GetDynamicOnePeerSendRecvRanks(\n",
    "                bf.load_topology(), bf.rank())\n",
    "\n",
    "def dynamic_topology_update(epoch, batch_idx):\n",
    "    send_neighbors, recv_neighbors = next(dynamic_neighbor_allreduce_gen)\n",
    "    optimizer.send_neighbors = send_neighbors\n",
    "    optimizer.neighbor_weights = {r: 1/(len(recv_neighbors) + 1) for r in recv_neighbors}\n",
    "    optimizer.self_weight = 1 / (len(recv_neighbors) + 1)\n",
    "    optimizer.enable_topo_check = False\n",
    "\n",
    "# Regenerate model\n",
    "model = Net()\n",
    "\n",
    "# Bluefog: scale learning rate by the number of process.\n",
    "optimizer = optim.SGD(model.parameters(), lr=lr * bf.size(), \n",
    "                      momentum=0.5)\n",
    "\n",
    "# Bluefog: broadcast parameters & optimizer state.\n",
    "bf.broadcast_parameters(model.state_dict(), root_rank=0)\n",
    "bf.broadcast_optimizer_state(optimizer, root_rank=0)\n",
    "\n",
    "# Build decentralized ATC optimizer\n",
    "optimizer = bf.DistributedAdaptThenCombineOptimizer(\n",
    "                optimizer, \n",
    "                model=model,\n",
    "                communication_type=bf.CommunicationType.neighbor_allreduce)\n",
    "\n",
    "# train the model\n",
    "model.train()\n",
    "train_loss_record = []\n",
    "test_loss_record = []\n",
    "test_accuracy_record = []\n",
    "for epoch in range(10):\n",
    "    # Bluefog: set epoch to sampler for shuffling.\n",
    "    train_sampler.set_epoch(epoch)\n",
    "    for batch_idx, (data, target) in enumerate(train_loader):\n",
    "        dynamic_topology_update(epoch, batch_idx)\n",
    "        optimizer.zero_grad()\n",
    "        output = model(data)\n",
    "        loss = F.nll_loss(output, target)\n",
    "        loss.backward()\n",
    "        optimizer.step()\n",
    "        if (batch_idx % 10 == 0) and bf.rank() == 0:\n",
    "            # Bluefog: use train_sampler to determine the number of examples in\n",
    "            # this worker's partition.\n",
    "            print(\n",
    "                \"[{}] Train Epoch: {} [{}/{} ({:.0f}%)]\\tLoss: {:.6f}\".format(\n",
    "                    bf.rank(),\n",
    "                    epoch,\n",
    "                    batch_idx * len(data),\n",
    "                    len(train_sampler),\n",
    "                    100.0 * batch_idx / len(train_loader),\n",
    "                    loss.item(),\n",
    "                ), flush=True\n",
    "            )\n",
    "        train_loss_record.append(loss)\n",
    "    test(test_loss_record, test_accuracy_record)"
   ]
  },
  {
   "cell_type": "code",
   "execution_count": 74,
   "metadata": {},
   "outputs": [],
   "source": [
    "train_loss_record, test_loss_record, test_accuracy_record = \\\n",
    "    dview.pull(['train_loss_record', 'test_loss_record', 'test_accuracy_record'], targets=0).get()"
   ]
  },
  {
   "cell_type": "code",
   "execution_count": 77,
   "metadata": {},
   "outputs": [
    {
     "data": {
      "text/plain": [
       "[<matplotlib.lines.Line2D at 0x7f384bb2a1d0>]"
      ]
     },
     "execution_count": 77,
     "metadata": {},
     "output_type": "execute_result"
    },
    {
     "data": {
      "image/png": "[encoded data removed]",
      "text/plain": [
       "<Figure size 432x288 with 1 Axes>"
      ]
     },
     "metadata": {
      "needs_background": "light"
     },
     "output_type": "display_data"
    }
   ],
   "source": [
    "plt.plot(test_accuracy_record)"
   ]
  },
  {
   "cell_type": "code",
   "execution_count": 119,
   "metadata": {},
   "outputs": [],
   "source": [
    "import time\n",
    "import ipywidgets\n",
    "\n",
    "def f(x):\n",
    "    import time\n",
    "    time.sleep(.5)\n",
    "    return x * x\n",
    "\n",
    "numbers = list(range(100))\n",
    "\n",
    "def progress_bar(ar):\n",
    "    # We create a progress bar.\n",
    "    w = ipywidgets.IntProgress()\n",
    "    # The maximum value is the number of tasks.\n",
    "    w.max = len(ar.msg_ids)\n",
    "    # We display the widget in the output area.\n",
    "    display(w)\n",
    "    # Repeat:\n",
    "    while not ar.ready():\n",
    "        # Update the widget's value with the\n",
    "        # number of tasks that have finished\n",
    "        # so far.\n",
    "        w.value = ar.progress\n",
    "        time.sleep(.1)\n",
    "    w.value = w.max\n",
    "ar = dview.map_async(f, numbers)"
   ]
  },
  {
   "cell_type": "code",
   "execution_count": 92,
   "metadata": {},
   "outputs": [
    {
     "data": {
      "application/vnd.jupyter.widget-view+json": {
       "model_id": "7242881132254d6e8b827ad03c82f729",
       "version_major": 2,
       "version_minor": 0
      },
      "text/plain": [
       "IntProgress(value=0, max=12)"
      ]
     },
     "metadata": {},
     "output_type": "display_data"
    }
   ],
   "source": [
    "progress_bar(ar)"
   ]
  },
  {
   "cell_type": "code",
   "execution_count": 84,
   "metadata": {},
   "outputs": [],
   "source": []
  },
  {
   "cell_type": "code",
   "execution_count": null,
   "metadata": {},
   "outputs": [],
   "source": []
  }
 ],
 "metadata": {
  "kernelspec": {
   "display_name": "Python 3",
   "language": "python",
   "name": "python3"
  },
  "language_info": {
   "codemirror_mode": {
    "name": "ipython",
    "version": 3
   },
   "file_extension": ".py",
   "mimetype": "text/x-python",
   "name": "python",
   "nbconvert_exporter": "python",
   "pygments_lexer": "ipython3",
   "version": "3.7.3"
  },
  "toc": {
   "base_numbering": 1,
   "nav_menu": {},
   "number_sections": true,
   "sideBar": true,
   "skip_h1_title": false,
   "title_cell": "Table of Contents",
   "title_sidebar": "Contents",
   "toc_cell": false,
   "toc_position": {},
   "toc_section_display": true,
   "toc_window_display": false
  }
 },
 "nbformat": 4,
 "nbformat_minor": 2
}
