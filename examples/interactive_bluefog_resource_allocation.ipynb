{
 "cells": [
  {
   "cell_type": "markdown",
   "metadata": {},
   "source": [
    "# Solving Decentralizded Optimal Exchange Problem with BlueFog "
   ]
  },
  {
   "cell_type": "markdown",
   "metadata": {},
   "source": [
    "## 1. Optimal exchange problem"
   ]
  },
  {
   "cell_type": "markdown",
   "metadata": {},
   "source": [
    "A network of $n$ nodes collaborate to solve an optimal exchange problem as follows:"
   ]
  },
  {
   "cell_type": "markdown",
   "metadata": {},
   "source": [
    "$$\\min_{\\{x_i\\}} \\ \\sum_{i=1}^n f_i(x_i) \\quad \\mathrm{s.t.}\\ \\sum_{i=1}^n x_i = 0.$$"
   ]
  },
  {
   "cell_type": "markdown",
   "metadata": {},
   "source": [
    "This and related problems have a long history in economics, particularly in the theories\n",
    "of market exchange, resource allocation, and general equilibrium. In this example, we will simulate how EXTRA, Exact Diffusion, and Gradient Tracking solve the above problem over a cluster of $n$ CPUs. "
   ]
  },
  {
   "cell_type": "markdown",
   "metadata": {},
   "source": [
    "## 2. KKT Condition"
   ]
  },
  {
   "cell_type": "markdown",
   "metadata": {},
   "source": [
    "The Lagrangian function of the optimal exchange problem is:"
   ]
  },
  {
   "cell_type": "markdown",
   "metadata": {},
   "source": [
    "$$L(x, y) = \\sum_{i=1}^n f_i(x_i) + y^T(\\sum_{i=1}^n x_i)$$"
   ]
  },
  {
   "cell_type": "markdown",
   "metadata": {},
   "source": [
    "where $y$ is the dual variable. The KKT condition is:"
   ]
  },
  {
   "cell_type": "markdown",
   "metadata": {},
   "source": [
    "\\begin{align}\n",
    "\\nabla f_i(x_i) + y & = 0, \\quad \\forall\\ i\\in [n] \\\\\n",
    "\\sum_{i=1}^n x_i & = 0. \n",
    "\\end{align}"
   ]
  },
  {
   "cell_type": "markdown",
   "metadata": {},
   "source": [
    "## 3. Experiment Setup"
   ]
  },
  {
   "cell_type": "markdown",
   "metadata": {},
   "source": [
    "For simplicity, we assume $f_i(x) = \\frac{1}{2}\\|A_i x_i - b_i\\|^2$ in which $A_i$ and $b_i$ are generated through uniform Gaussian distribution. "
   ]
  },
  {
   "cell_type": "markdown",
   "metadata": {},
   "source": [
    "### 3.1 Basic setup"
   ]
  },
  {
   "cell_type": "markdown",
   "metadata": {},
   "source": [
    "Before generating the data, let's setup the basic experimental environment and make sure the communication between the rank and the driver is normal."
   ]
  },
  {
   "cell_type": "code",
   "execution_count": 115,
   "metadata": {},
   "outputs": [],
   "source": [
    "import ipyparallel as ipp\n",
    "import numpy as np\n",
    "import torch\n",
    "import networkx as nx\n",
    "import matplotlib.pyplot as plt\n",
    "%matplotlib inline"
   ]
  },
  {
   "cell_type": "code",
   "execution_count": 2,
   "metadata": {},
   "outputs": [
    {
     "data": {
      "text/plain": [
       "[0, 1, 2, 3]"
      ]
     },
     "execution_count": 2,
     "metadata": {},
     "output_type": "execute_result"
    }
   ],
   "source": [
    "rc = ipp.Client(profile='bluefog')\n",
    "rc.ids"
   ]
  },
  {
   "cell_type": "code",
   "execution_count": 116,
   "metadata": {},
   "outputs": [
    {
     "name": "stdout",
     "output_type": "stream",
     "text": [
      "[stdout:0] Hello, I am 0 among 4 processes\n",
      "[stdout:1] Hello, I am 1 among 4 processes\n",
      "[stdout:2] Hello, I am 2 among 4 processes\n",
      "[stdout:3] Hello, I am 3 among 4 processes\n"
     ]
    }
   ],
   "source": [
    "%%px\n",
    "import numpy as np\n",
    "import bluefog.torch as bf\n",
    "import torch\n",
    "from bluefog.common import topology_util\n",
    "import networkx as nx\n",
    "\n",
    "bf.init()\n",
    "print(f\"Hello, I am {bf.rank()} among {bf.size()} processes\")"
   ]
  },
  {
   "cell_type": "code",
   "execution_count": 4,
   "metadata": {},
   "outputs": [],
   "source": [
    "dview = rc[:] # A DirectView of all engines\n",
    "dview.block=True"
   ]
  },
  {
   "cell_type": "markdown",
   "metadata": {},
   "source": [
    "### 3.2 Generate data"
   ]
  },
  {
   "cell_type": "code",
   "execution_count": 5,
   "metadata": {},
   "outputs": [
    {
     "data": {
      "text/plain": [
       "[None, None, None, None]"
      ]
     },
     "execution_count": 5,
     "metadata": {},
     "output_type": "execute_result"
    }
   ],
   "source": [
    "# Push the data into all workers\n",
    "dview.push({'seed': 2021}, block=True)"
   ]
  },
  {
   "cell_type": "code",
   "execution_count": 6,
   "metadata": {},
   "outputs": [
    {
     "name": "stdout",
     "output_type": "stream",
     "text": [
      "[stdout:0] I received seed as value:  2021\n",
      "[stdout:1] I received seed as value:  2021\n",
      "[stdout:2] I received seed as value:  2021\n",
      "[stdout:3] I received seed as value:  2021\n"
     ]
    }
   ],
   "source": [
    "%%px\n",
    "print(\"I received seed as value: \", seed)"
   ]
  },
  {
   "cell_type": "code",
   "execution_count": 7,
   "metadata": {},
   "outputs": [],
   "source": [
    "%%px\n",
    "m = 10 # number of rows of A\n",
    "d = 5  # number of cols of A\n",
    "torch.random.manual_seed(seed * bf.rank())  # make sure different rank has different seed\n",
    "max_iters = 1000\n",
    "\n",
    "A = torch.rand(m, d).to(torch.double)\n",
    "b = torch.rand(m, 1).to(torch.double)"
   ]
  },
  {
   "cell_type": "markdown",
   "metadata": {},
   "source": [
    "## 4. Achieve solution $x^\\star$ with centralized ADMM"
   ]
  },
  {
   "cell_type": "markdown",
   "metadata": {},
   "source": [
    "### 4.1 Algorithm"
   ]
  },
  {
   "cell_type": "markdown",
   "metadata": {},
   "source": [
    "Centralized ADMM proposed in Ref. [[1]](https://stanford.edu/~boyd/papers/pdf/admm_distr_stats.pdf) is as follows:"
   ]
  },
  {
   "cell_type": "markdown",
   "metadata": {},
   "source": [
    "\\begin{align}\n",
    "x_i^{k+1} &= \\arg\\min_{x_i}\\{ f_i(x_i) + \\frac{\\rho}{2}\\|x_i - x_i^k + \\bar{x}^k + u^k \\|^2 \\} \\\\\n",
    "u^{k+1} &= u^k + \\bar{x}^{k+1}\n",
    "\\end{align}"
   ]
  },
  {
   "cell_type": "markdown",
   "metadata": {},
   "source": [
    "where $\\bar{x}^k = ({1}/{n})\\sum_{i=1}^n x_i^k$ and $y^k = \\rho u^k$. When $f_i(x_i) = (1/2)\\|A_i x_i - b_i\\|^2$, the above recursion becomes"
   ]
  },
  {
   "cell_type": "markdown",
   "metadata": {},
   "source": [
    "\\begin{align}\n",
    "x_i^{k+1} &= \\arg\\min_{x_i} \\big( \\frac{1}{2}\\|A_i x_i - b_i\\|^2 + \\frac{\\rho}{2}\\|x_i - x_i^k + \\bar{x}^k + u^k \\|^2 \\big) = (\\rho I + A_i^T A_i)^{-1} (A_i^T b_i + \\rho x_i^k - \\bar{x}^k - u^k) \\nonumber \\\\\n",
    "u^{k+1} &= u^k + \\bar{x}^{k+1}\n",
    "\\end{align}"
   ]
  },
  {
   "cell_type": "code",
   "execution_count": 8,
   "metadata": {},
   "outputs": [],
   "source": [
    "%%px\n",
    "\n",
    "# centralized ADMM\n",
    "def centralized_ADMM_one_recursion(x, x_bar, u, IpATA):\n",
    "    \n",
    "    x = IpATA.mm(A.T.mm(b) + rho*x - x_bar - u)\n",
    "    x_bar = bf.allreduce(x, average=True)\n",
    "    u += x_bar\n",
    "    \n",
    "    return x, x_bar, u"
   ]
  },
  {
   "cell_type": "code",
   "execution_count": 9,
   "metadata": {},
   "outputs": [],
   "source": [
    "%%px\n",
    "\n",
    "# initialization\n",
    "rho = 1\n",
    "\n",
    "x = torch.zeros(d, 1)\n",
    "x_bar = torch.zeros(d, 1)\n",
    "u = torch.zeros(d, 1)\n",
    "IpATA = torch.inverse(rho * torch.eye(d) + A.T.mm(A))"
   ]
  },
  {
   "cell_type": "code",
   "execution_count": 10,
   "metadata": {},
   "outputs": [
    {
     "name": "stdout",
     "output_type": "stream",
     "text": [
      "Progress 0/1000\n",
      "Progress 100/1000\n",
      "Progress 200/1000\n",
      "Progress 300/1000\n",
      "Progress 400/1000\n",
      "Progress 500/1000\n",
      "Progress 600/1000\n",
      "Progress 700/1000\n",
      "Progress 800/1000\n",
      "Progress 900/1000\n"
     ]
    }
   ],
   "source": [
    "# run algorithm\n",
    "maxite = 1000\n",
    "for ite in range(maxite):\n",
    "    \n",
    "    if ite%100 == 0:\n",
    "        print('Progress {}/{}'.format(ite, maxite))\n",
    "        \n",
    "    %px x, x_bar, u = centralized_ADMM_one_recursion(x, x_bar, u, IpATA)\n",
    "    \n",
    "# store solution\n",
    "%px x_sol = x.clone()"
   ]
  },
  {
   "cell_type": "markdown",
   "metadata": {},
   "source": [
    "### 4.2 Check optimality"
   ]
  },
  {
   "cell_type": "markdown",
   "metadata": {},
   "source": [
    "When $f_i(x_i) = (1/2)\\|A_i x_i - b_i\\|^2$, the KKT condition of the optimal exchange problem becomes"
   ]
  },
  {
   "cell_type": "markdown",
   "metadata": {},
   "source": [
    "$$A_i^T(A_i x_i - b) + y = 0, \\quad \\sum_{i=1}^n x_i = 0$$"
   ]
  },
  {
   "cell_type": "markdown",
   "metadata": {},
   "source": [
    "After running the following cell, you should observe that the above KKT conditons are satisfied witht the newly achieved $x_i^k$, $\\bar{x}^k$ and $y^k$"
   ]
  },
  {
   "cell_type": "code",
   "execution_count": 11,
   "metadata": {},
   "outputs": [
    {
     "name": "stdout",
     "output_type": "stream",
     "text": [
      "[stdout:0] \n",
      "tensor(1.6342e-07, dtype=torch.float64)\n",
      "tensor(1.6342e-07, dtype=torch.float64)\n",
      "[stdout:1] \n",
      "tensor(1.6342e-07, dtype=torch.float64)\n",
      "tensor(1.6342e-07, dtype=torch.float64)\n",
      "[stdout:2] \n",
      "tensor(1.6342e-07, dtype=torch.float64)\n",
      "tensor(1.6342e-07, dtype=torch.float64)\n",
      "[stdout:3] \n",
      "tensor(1.6342e-07, dtype=torch.float64)\n",
      "tensor(1.6342e-07, dtype=torch.float64)\n"
     ]
    }
   ],
   "source": [
    "%%px\n",
    "\n",
    "# check optimality\n",
    "\n",
    "y = u*rho\n",
    "print(torch.norm(A.T.mm(A.mm(x_sol) - b) + y, p=2))\n",
    "print(torch.norm(x_bar, p=2))"
   ]
  },
  {
   "cell_type": "markdown",
   "metadata": {},
   "source": [
    "## 5. Optimal exchange: the dual problem"
   ]
  },
  {
   "cell_type": "markdown",
   "metadata": {},
   "source": [
    "Recall the Lagrangian function of the optimal exchange problem:"
   ]
  },
  {
   "cell_type": "markdown",
   "metadata": {},
   "source": [
    "$$L(x, y) = \\sum_{i=1}^n f_i(x_i) + y^T(\\sum_{i=1}^n x_i)$$"
   ]
  },
  {
   "cell_type": "markdown",
   "metadata": {},
   "source": [
    "The dual function is thus given by:"
   ]
  },
  {
   "cell_type": "markdown",
   "metadata": {},
   "source": [
    "$$g(y) = \\min_{\\{x_i\\}} \\sum_{i=1}^n f_i(x_i) + y^T(\\sum_{i=1}^n x_i) = \\sum_{i=1}^n \\min_{x_i}\\{f_i(x_i) + y^T x_i \\} = - \\sum_{i=1}^n \\max_{x_i}\\ \\{-f_i(x_i) - y^T x_i\\} = - \\sum_{i=1}^n f_i^*(-y)$$"
   ]
  },
  {
   "cell_type": "markdown",
   "metadata": {},
   "source": [
    "As a result, the dual problem is"
   ]
  },
  {
   "cell_type": "markdown",
   "metadata": {},
   "source": [
    "$$\\min_y \\sum_{i=1}^n f_i^*(-y), \\quad \\mbox{where} \\quad f_i^*(-y) = \\max_{x_i} \\{-f_i(x_i) - y^T x_i\\} = -f_i(x_i^*) - y^T x_i^*$$"
   ]
  },
  {
   "cell_type": "markdown",
   "metadata": {},
   "source": [
    "Now we define $F_i(y) = f_i^*(-y) = -f_i(x_i^*) - y^T x_i^*$, then the dual problem becomes a **consensus** problem:"
   ]
  },
  {
   "cell_type": "markdown",
   "metadata": {},
   "source": [
    "\\begin{align}\n",
    "\\label{consensus}\n",
    "\\min_y \\sum_{i=1}^n F_i(y).\n",
    "\\end{align}"
   ]
  },
  {
   "cell_type": "markdown",
   "metadata": {},
   "source": [
    "Note that the above problem is **differentiable**, and each local gradient is $\\nabla F_i(y) = - x_i^* = - \\arg\\min_{x_i}\\{f_i(x_i) + y^T x_i\\}$. "
   ]
  },
  {
   "cell_type": "markdown",
   "metadata": {},
   "source": [
    "When $f_i(x_i) = (1/2)\\|A_i x_i - b_i\\|^2$, we have $\\nabla F_i(y) = - x_i^* = - (A_i^T A_i)^{-1}(A_i^T b_i - y)$."
   ]
  },
  {
   "cell_type": "markdown",
   "metadata": {},
   "source": [
    "## 6. Decentralized algorithms"
   ]
  },
  {
   "cell_type": "markdown",
   "metadata": {},
   "source": [
    "Since the dual problem is the consensus problem, there exist many well-known decentralized algorithms to solve it effectively. In this example, we examine EXTRA [[2]](https://arxiv.org/abs/1404.6264), Exact Diffusion [[3]](https://arxiv.org/abs/1702.05122), and Gradient Tracking [[4]](https://arxiv.org/abs/1607.03218)."
   ]
  },
  {
   "cell_type": "markdown",
   "metadata": {},
   "source": [
    "### 6.1 EXTRA"
   ]
  },
  {
   "cell_type": "markdown",
   "metadata": {},
   "source": [
    "To solve the dual consensus problem, EXTRA has the following recursions:"
   ]
  },
  {
   "cell_type": "markdown",
   "metadata": {},
   "source": [
    "\\begin{align}\n",
    "y_i^{k+1} & = \\sum_{j=1}^n \\bar{w}_{ij}\\big( 2 y_j^k - y_j^{k-1}\\big) - \\alpha \\big(g_i(y_i^{k}) - g_i(y_i^{k-1})\\big), \\quad k=1,2,\\cdots  \\\\\n",
    "x_i^{k+1} &= - g_i(y_i^{k+1})\n",
    "\\end{align}"
   ]
  },
  {
   "cell_type": "markdown",
   "metadata": {},
   "source": [
    "where $g_j(y) = \\nabla F_j(y)$, and we set the initialization $y_i^{1} = y_i^{0} = 0$, and let $g_i(y_i^{0}) = 0$. The weight $\\bar{w}_{ij}$ is defined as:"
   ]
  },
  {
   "cell_type": "markdown",
   "metadata": {},
   "source": [
    "\\begin{align}\n",
    "\\bar{w}_{ij}=\n",
    "\\begin{cases}\n",
    "(1+w_{ii})/2 & \\mbox{if $i=j$} \\\\\n",
    "w_{ij}/2 & \\mbox{otherwise}\n",
    "\\end{cases}\n",
    "\\end{align}"
   ]
  },
  {
   "cell_type": "code",
   "execution_count": 40,
   "metadata": {},
   "outputs": [],
   "source": [
    "%%px\n",
    "\n",
    "# EXTRA\n",
    "def EXTRA_one_recursion(y, gp, yp, ATA, A, b, x_sol, lr, self_weight, neighbor_weights):\n",
    "    \n",
    "    x = ATA.mm(A.T.mm(b) - y)\n",
    "    g = -x\n",
    "    yn = bf.neighbor_allreduce(2*y - yp, self_weight, neighbor_weights, name='y')\n",
    "    yn = yn - lr*(g - gp)\n",
    "    gp = g.clone()\n",
    "    yp = y.clone()\n",
    "    y  = yn.clone()\n",
    "    \n",
    "    dist = torch.norm(x - x_sol, p=2)/torch.norm(x_sol, p=2)\n",
    "    averaged_relative_error = bf.allreduce(dist**2, average=True)\n",
    "    record_extra.append(torch.sqrt(averaged_relative_error))\n",
    "    \n",
    "    return y, yp, gp"
   ]
  },
  {
   "cell_type": "code",
   "execution_count": 63,
   "metadata": {},
   "outputs": [],
   "source": [
    "%%px\n",
    "\n",
    "# initialization\n",
    "lr = 0.1\n",
    "ATA = torch.inverse(A.T.mm(A))\n",
    "y = torch.zeros(d, 1)\n",
    "yp = torch.zeros(d, 1)\n",
    "gp = torch.zeros(d, 1)\n",
    "record_extra = []"
   ]
  },
  {
   "cell_type": "markdown",
   "metadata": {},
   "source": [
    "In the following cell, we set the topology as the exponential-2 graph, and scale weights from $w$ to $\\bar{w}$."
   ]
  },
  {
   "cell_type": "code",
   "execution_count": 118,
   "metadata": {},
   "outputs": [
    {
     "data": {
      "image/png": "[encoded data removed]",
      "text/plain": [
       "<Figure size 432x288 with 1 Axes>"
      ]
     },
     "metadata": {},
     "output_type": "display_data"
    }
   ],
   "source": [
    "# plot figure\n",
    "%px G = topology_util.ExponentialTwoGraph(bf.size())\n",
    "\n",
    "G_0 = dview.pull('G', block=True, targets=0)\n",
    "nx.draw_circular(G_0)"
   ]
  },
  {
   "cell_type": "code",
   "execution_count": 119,
   "metadata": {},
   "outputs": [
    {
     "name": "stdout",
     "output_type": "stream",
     "text": [
      "[stdout:0] \n",
      "self weights: 0.3333333333333333\n",
      "\n",
      "neighbor weights:\n",
      "2 0.3333333333333333\n",
      "3 0.3333333333333333\n",
      "self weights: 0.6666666666666666\n",
      "\n",
      "neighbor weights:\n",
      "2 0.16666666666666666\n",
      "3 0.16666666666666666\n"
     ]
    }
   ],
   "source": [
    "%%px\n",
    "\n",
    "# set topology and generate weight w_bar = (w + 1)/2\n",
    "bf.set_topology(topology_util.ExponentialGraph(bf.size()))\n",
    "topology = bf.load_topology()\n",
    "self_weight, neighbor_weights = topology_util.GetRecvWeights(\n",
    "    topology, bf.rank())\n",
    "\n",
    "if bf.rank() == 0:\n",
    "    print('self weights: {}\\n'.format(self_weight))\n",
    "    print('neighbor weights:')\n",
    "    for k, v in neighbor_weights.items():\n",
    "        print(k, v)\n",
    "        \n",
    "self_weight = (self_weight+1)/2\n",
    "for k, v in neighbor_weights.items():\n",
    "    neighbor_weights[k] = v/2\n",
    "    \n",
    "if bf.rank() == 0:\n",
    "    print('self weights: {}\\n'.format(self_weight))\n",
    "    print('neighbor weights:')\n",
    "    for k, v in neighbor_weights.items():\n",
    "        print(k, v)"
   ]
  },
  {
   "cell_type": "code",
   "execution_count": 65,
   "metadata": {},
   "outputs": [
    {
     "name": "stdout",
     "output_type": "stream",
     "text": [
      "Progress 0/2000\n",
      "Progress 100/2000\n",
      "Progress 200/2000\n",
      "Progress 300/2000\n",
      "Progress 400/2000\n",
      "Progress 500/2000\n",
      "Progress 600/2000\n",
      "Progress 700/2000\n",
      "Progress 800/2000\n",
      "Progress 900/2000\n",
      "Progress 1000/2000\n",
      "Progress 1100/2000\n",
      "Progress 1200/2000\n",
      "Progress 1300/2000\n",
      "Progress 1400/2000\n",
      "Progress 1500/2000\n",
      "Progress 1600/2000\n",
      "Progress 1700/2000\n",
      "Progress 1800/2000\n",
      "Progress 1900/2000\n"
     ]
    }
   ],
   "source": [
    "# run EXTRA\n",
    "maxite = 2000\n",
    "\n",
    "for ite in range(maxite):\n",
    "    \n",
    "    if ite%100 == 0:\n",
    "        print('Progress {}/{}'.format(ite, maxite))\n",
    "        \n",
    "    %px y, yp, gp = EXTRA_one_recursion(y, gp, yp, ATA, A, b, x_sol, lr, self_weight, neighbor_weights)"
   ]
  },
  {
   "cell_type": "code",
   "execution_count": 66,
   "metadata": {},
   "outputs": [
    {
     "data": {
      "text/plain": [
       "<matplotlib.legend.Legend at 0x7f251dddba10>"
      ]
     },
     "execution_count": 66,
     "metadata": {},
     "output_type": "execute_result"
    },
    {
     "data": {
      "image/png": "[encoded data removed]",
      "text/plain": [
       "<Figure size 432x288 with 1 Axes>"
      ]
     },
     "metadata": {
      "needs_background": "light"
     },
     "output_type": "display_data"
    }
   ],
   "source": [
    "# pull averaged relative error list from node 0 \n",
    "record_extra_0 = dview.pull('record_extra', block=True, targets=0)\n",
    "%matplotlib inline\n",
    "plt.semilogy(record_extra_0)\n",
    "plt.xlabel('iteration', fontsize=16)\n",
    "plt.ylabel('relative error',fontsize=16)\n",
    "plt.legend(['EXTRA'],fontsize=16)"
   ]
  },
  {
   "cell_type": "markdown",
   "metadata": {},
   "source": [
    "**Note**: \n",
    "\n",
    "- The relative error is around $10^{-7}$ because the KKT conditon of the centralized solution is with the precision level $10^{-7}$.\n",
    "\n",
    "- In the $y$-axis, the averaged relative error is computed as $\\sqrt{\\frac{1}{n}\\sum_{i=1}^n \\|x_i^k - x_i^\\star\\|^2/\\|x_i^\\star\\|^2}$"
   ]
  },
  {
   "cell_type": "markdown",
   "metadata": {},
   "source": [
    "### 6.2 Exact Diffusion"
   ]
  },
  {
   "cell_type": "markdown",
   "metadata": {},
   "source": [
    "To solve the dual consensus problem, EXTRA has the following recursions:"
   ]
  },
  {
   "cell_type": "markdown",
   "metadata": {},
   "source": [
    "\\begin{align}\n",
    "y_i^{k+1} & = \\sum_{j=1}^n \\bar{w}_{ij}\\big( 2 y_j^k - y_j^{k-1} - \\alpha (g_i(y_i^{k}) - g_i(y_i^{k-1})) \\big), \\quad k=1,2,\\cdots  \\\\\n",
    "x_i^{k+1} &= - g_i(y_i^{k+1})\n",
    "\\end{align}"
   ]
  },
  {
   "cell_type": "markdown",
   "metadata": {},
   "source": [
    "where $g_j(y) = \\nabla F_j(y)$, and we set the initialization $y_i^{1} = y_i^{0} = 0$, and let $g_i(y_i^{0}) = 0$. The weight $\\bar{w}_{ij}$ is defined the same as that in EXTRA algorithm. It is observed that Exact Diffusion is almost the same as EXTRA, except that the combination matrix $\\bar{w}_{ij}$ is also associated with the gradient."
   ]
  },
  {
   "cell_type": "code",
   "execution_count": 67,
   "metadata": {},
   "outputs": [],
   "source": [
    "%%px\n",
    "\n",
    "# Exact Diffusion\n",
    "def Exact_diffusion_one_recursion(y, gp, yp, ATA, A, b, x_sol, lr, self_weight, neighbor_weights):\n",
    "    \n",
    "    x = ATA.mm(A.T.mm(b) - y)\n",
    "    g = -x\n",
    "    yn = bf.neighbor_allreduce(2*y - yp - lr*(g - gp), self_weight, neighbor_weights, name='y')\n",
    "    gp = g.clone()\n",
    "    yp = y.clone()\n",
    "    y  = yn.clone()\n",
    "    \n",
    "    dist = torch.norm(x - x_sol, p=2)/torch.norm(x_sol, p=2)\n",
    "    averaged_relative_error = bf.allreduce(dist**2, average=True)\n",
    "    record_exact_diffusion.append(torch.sqrt(averaged_relative_error))\n",
    "    \n",
    "    return y, yp, gp"
   ]
  },
  {
   "cell_type": "code",
   "execution_count": 104,
   "metadata": {},
   "outputs": [],
   "source": [
    "%%px\n",
    "\n",
    "# initialization\n",
    "lr = 0.1\n",
    "ATA = torch.inverse(A.T.mm(A))\n",
    "y = torch.zeros(d, 1)\n",
    "yp = torch.zeros(d, 1)\n",
    "gp = torch.zeros(d, 1)\n",
    "record_exact_diffusion = []"
   ]
  },
  {
   "cell_type": "code",
   "execution_count": 105,
   "metadata": {},
   "outputs": [
    {
     "name": "stdout",
     "output_type": "stream",
     "text": [
      "[stdout:0] \n",
      "self weights: 0.3333333333333333\n",
      "\n",
      "neighbor weights:\n",
      "2 0.3333333333333333\n",
      "3 0.3333333333333333\n",
      "self weights: 0.6666666666666666\n",
      "\n",
      "neighbor weights:\n",
      "2 0.16666666666666666\n",
      "3 0.16666666666666666\n"
     ]
    }
   ],
   "source": [
    "%%px\n",
    "\n",
    "# set topology and generate weight w_bar = (w + 1)/2\n",
    "bf.set_topology(topology_util.ExponentialGraph(bf.size()))\n",
    "topology = bf.load_topology()\n",
    "self_weight, neighbor_weights = topology_util.GetRecvWeights(\n",
    "    topology, bf.rank())\n",
    "\n",
    "if bf.rank() == 0:\n",
    "    print('self weights: {}\\n'.format(self_weight))\n",
    "    print('neighbor weights:')\n",
    "    for k, v in neighbor_weights.items():\n",
    "        print(k, v)\n",
    "        \n",
    "self_weight = (self_weight+1)/2\n",
    "for k, v in neighbor_weights.items():\n",
    "    neighbor_weights[k] = v/2\n",
    "    \n",
    "if bf.rank() == 0:\n",
    "    print('self weights: {}\\n'.format(self_weight))\n",
    "    print('neighbor weights:')\n",
    "    for k, v in neighbor_weights.items():\n",
    "        print(k, v)"
   ]
  },
  {
   "cell_type": "code",
   "execution_count": 106,
   "metadata": {},
   "outputs": [
    {
     "name": "stdout",
     "output_type": "stream",
     "text": [
      "Progress 0/2000\n",
      "Progress 100/2000\n",
      "Progress 200/2000\n",
      "Progress 300/2000\n",
      "Progress 400/2000\n",
      "Progress 500/2000\n",
      "Progress 600/2000\n",
      "Progress 700/2000\n",
      "Progress 800/2000\n",
      "Progress 900/2000\n",
      "Progress 1000/2000\n",
      "Progress 1100/2000\n",
      "Progress 1200/2000\n",
      "Progress 1300/2000\n",
      "Progress 1400/2000\n",
      "Progress 1500/2000\n",
      "Progress 1600/2000\n",
      "Progress 1700/2000\n",
      "Progress 1800/2000\n",
      "Progress 1900/2000\n"
     ]
    }
   ],
   "source": [
    "# run Exact Diffusion\n",
    "maxite = 2000\n",
    "\n",
    "for ite in range(maxite):\n",
    "    \n",
    "    if ite%100 == 0:\n",
    "        print('Progress {}/{}'.format(ite, maxite))\n",
    "        \n",
    "    %px y, yp, gp = Exact_diffusion_one_recursion(y, gp, yp, ATA, A, b, x_sol, lr, self_weight, neighbor_weights)"
   ]
  },
  {
   "cell_type": "code",
   "execution_count": 107,
   "metadata": {},
   "outputs": [
    {
     "data": {
      "text/plain": [
       "<matplotlib.legend.Legend at 0x7f251c3c9a10>"
      ]
     },
     "execution_count": 107,
     "metadata": {},
     "output_type": "execute_result"
    },
    {
     "data": {
      "image/png": "[encoded data removed]",
      "text/plain": [
       "<Figure size 432x288 with 1 Axes>"
      ]
     },
     "metadata": {
      "needs_background": "light"
     },
     "output_type": "display_data"
    }
   ],
   "source": [
    "# pull averaged relative error list from node 0 \n",
    "record_exact_diffusion_0 = dview.pull('record_exact_diffusion', block=True, targets=0)\n",
    "%matplotlib inline\n",
    "plt.semilogy(record_exact_diffusion_0)\n",
    "plt.xlabel('iteration', fontsize=16)\n",
    "plt.ylabel('relative error',fontsize=16)\n",
    "plt.legend(['Exact Diffusion'],fontsize=16)"
   ]
  },
  {
   "cell_type": "markdown",
   "metadata": {},
   "source": [
    "### 6.3 Gradient tracking"
   ]
  },
  {
   "cell_type": "markdown",
   "metadata": {},
   "source": [
    "To solve the dual consensus problem, gradient tracking has the following recursions:"
   ]
  },
  {
   "cell_type": "markdown",
   "metadata": {},
   "source": [
    "\\begin{align}\n",
    "y_i^{k+1} &= \\sum_{j=1}^n w_{ij}(y_j^k + \\alpha z_j^k) \\\\\n",
    "z_i^{k+1} &= \\sum_{j=1}^n w_{ij}\\big(z_j^k + g_j(y_j^{k+1}) - g_j(y_j^{k})\\big) \\\\\n",
    "x_i^{k+1} &= - g_i(y_i^{k+1})\n",
    "\\end{align}"
   ]
  },
  {
   "cell_type": "markdown",
   "metadata": {},
   "source": [
    "where $g_j(y) = \\nabla F_j(y)$ and $z_i^0 = g_i(y_i^0)$"
   ]
  },
  {
   "cell_type": "code",
   "execution_count": 12,
   "metadata": {},
   "outputs": [],
   "source": [
    "%%px\n",
    "\n",
    "# gradient tracking\n",
    "def gradient_tracking_one_recursion(y, z, gp, ATA, A, b, x_sol, lr):\n",
    "    \n",
    "    y = bf.neighbor_allreduce(y - lr*z, name='y')\n",
    "    x = ATA.mm(A.T.mm(b) - y)\n",
    "    g = -x\n",
    "    z = bf.neighbor_allreduce(z + g - gp, name='z')\n",
    "    gp = g.clone()\n",
    "    \n",
    "    dist = torch.norm(x - x_sol, p=2)/torch.norm(x_sol, p=2)\n",
    "    averaged_relative_error = bf.allreduce(dist**2, average=True)\n",
    "    record_gt.append(torch.sqrt(averaged_relative_error))\n",
    "    \n",
    "    return y, z, gp"
   ]
  },
  {
   "cell_type": "code",
   "execution_count": 13,
   "metadata": {},
   "outputs": [],
   "source": [
    "%%px\n",
    "\n",
    "# initialization\n",
    "lr = 0.5\n",
    "ATA = torch.inverse(A.T.mm(A))\n",
    "y = torch.zeros(d, 1)\n",
    "gp = ATA.mm(A.T.mm(b) - y)\n",
    "z = ATA.mm(A.T.mm(b) - y)\n",
    "record_gt = []"
   ]
  },
  {
   "cell_type": "code",
   "execution_count": 14,
   "metadata": {},
   "outputs": [
    {
     "name": "stdout",
     "output_type": "stream",
     "text": [
      "Progress 0/400\n",
      "Progress 100/400\n",
      "Progress 200/400\n",
      "Progress 300/400\n"
     ]
    }
   ],
   "source": [
    "# run gradient tracking\n",
    "maxite = 400\n",
    "\n",
    "for ite in range(maxite):\n",
    "    \n",
    "    if ite%100 == 0:\n",
    "        print('Progress {}/{}'.format(ite, maxite))\n",
    "        \n",
    "    %px y, z, gp = gradient_tracking_one_recursion(y, z, gp, ATA, A, b, x_sol, lr)"
   ]
  },
  {
   "cell_type": "code",
   "execution_count": 15,
   "metadata": {},
   "outputs": [
    {
     "data": {
      "text/plain": [
       "<matplotlib.legend.Legend at 0x7f2525a120d0>"
      ]
     },
     "execution_count": 15,
     "metadata": {},
     "output_type": "execute_result"
    },
    {
     "data": {
      "image/png": "[encoded data removed]",
      "text/plain": [
       "<Figure size 432x288 with 1 Axes>"
      ]
     },
     "metadata": {
      "needs_background": "light"
     },
     "output_type": "display_data"
    }
   ],
   "source": [
    "# pull averaged relative error list from node 0 \n",
    "record_gt_0 = dview.pull('record_gt', block=True, targets=0)\n",
    "%matplotlib inline\n",
    "plt.semilogy(record_gt_0)\n",
    "plt.xlabel('iteration', fontsize=16)\n",
    "plt.ylabel('relative error',fontsize=16)\n",
    "plt.legend(['Gradient Tracking'],fontsize=16)"
   ]
  },
  {
   "cell_type": "markdown",
   "metadata": {},
   "source": []
  },
  {
   "cell_type": "markdown",
   "metadata": {},
   "source": [
    "#### gradient tracking"
   ]
  },
  {
   "cell_type": "code",
   "execution_count": 125,
   "metadata": {},
   "outputs": [],
   "source": [
    "%%px\n",
    "\n",
    "lr = 1\n",
    "maxite = 1000\n",
    "record_gt = []\n",
    "\n",
    "ATA = torch.inverse(A.T.mm(A))\n",
    "y = torch.zeros(d, 1)\n",
    "gp = ATA.mm(A.T.mm(b) - y)\n",
    "z = ATA.mm(A.T.mm(b) - y)\n",
    "\n",
    "# print(bf.rank())\n",
    "# print(ATA)\n",
    "# print(A)\n",
    "# print(b)\n",
    "# print(gp)\n",
    "# print(z)\n",
    "# print(ATA.mm(A.T.mm(A)))\n",
    "\n",
    "# Y = np.zeros((num_nodes, d))\n",
    "# Psi_prev = np.zeros((num_nodes, d))\n",
    "# X_sol = X_star.copy()\n",
    "\n",
    "# Gp = getGrad(ATA, A_dict, b_dict, Y)\n",
    "# Z = getGrad(ATA, A_dict, b_dict, Y)\n",
    "\n",
    "for ite in range(maxite):\n",
    "\n",
    "#     # gradient tracking\n",
    "#     Y = W@(Y - lr*Z)\n",
    "#     G = getGrad(ATA, A_dict, b_dict, Y)\n",
    "#     X = -G\n",
    "#     Z = W@(Z + G - Gp)\n",
    "#     Gp = G.copy()   \n",
    "\n",
    "\n",
    "    y = bf.neighbor_allreduce(y - lr*z, name='y')\n",
    "#     y = bf.allreduce(y - lr*z, average=True)\n",
    "    x = ATA.mm(A.T.mm(b) - y)\n",
    "    g = -x\n",
    "    z = bf.neighbor_allreduce(z + g - gp, name='z')\n",
    "#     z = bf.allreduce(z + g - gp, average=True)\n",
    "    gp = g.clone()\n",
    "    \n",
    "    dist = torch.norm(x - x_sol, p=2)/torch.norm(x_sol, p=2)\n",
    "    msd = bf.allreduce(dist**2, average=True)\n",
    "    \n",
    "    record_gt.append(torch.sqrt(msd))"
   ]
  },
  {
   "cell_type": "code",
   "execution_count": 126,
   "metadata": {},
   "outputs": [],
   "source": [
    "record_gt_0 = dview.pull('record_gt', block=True, targets=0)"
   ]
  },
  {
   "cell_type": "code",
   "execution_count": 127,
   "metadata": {},
   "outputs": [
    {
     "data": {
      "text/plain": [
       "[<matplotlib.lines.Line2D at 0x7f2a7c44bb90>]"
      ]
     },
     "execution_count": 127,
     "metadata": {},
     "output_type": "execute_result"
    },
    {
     "data": {
      "image/png": "[encoded data removed]",
      "text/plain": [
       "<Figure size 432x288 with 1 Axes>"
      ]
     },
     "metadata": {
      "needs_background": "light"
     },
     "output_type": "display_data"
    }
   ],
   "source": [
    "%matplotlib inline\n",
    "plt.semilogy(record_gt_0)"
   ]
  },
  {
   "cell_type": "code",
   "execution_count": null,
   "metadata": {},
   "outputs": [],
   "source": []
  }
 ],
 "metadata": {
  "kernelspec": {
   "display_name": "Python 3",
   "language": "python",
   "name": "python3"
  },
  "language_info": {
   "codemirror_mode": {
    "name": "ipython",
    "version": 3
   },
   "file_extension": ".py",
   "mimetype": "text/x-python",
   "name": "python",
   "nbconvert_exporter": "python",
   "pygments_lexer": "ipython3",
   "version": "3.7.7"
  }
 },
 "nbformat": 4,
 "nbformat_minor": 4
}
