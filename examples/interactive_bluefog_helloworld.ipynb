{
 "cells": [
  {
   "cell_type": "markdown",
   "metadata": {},
   "source": [
    "# Running BlueFog with jupyter notebook\n",
    "\n",
    "The **goal** of this ipython notebook is to show you how you can run BlueFog code in ipython notebook environment.\n",
    "\n",
    "As you know, the BlueFog framework is aimed to run decentralized algorithm over a cluster of processes or machines.\n",
    "Meanwhile, jupyter notebook is an execellent interactive frontend talking with single IPython process. This contradictory of single process and cluster can be completely circumvented, fortunately. The main idea is using the jupyter notebook as the controller to inform how the cluster will execute the BlueFog code. On one hand, the execution of BlueFog is still running over multiple processes so that you can enjoy the scalability and parallelism brought by BlueFog. On the other hand, you (the programmer) can interactively execute with BlueFog and monitor and control the code in the single place.\n",
    "\n",
    "## Prerequisites: \n",
    "To begin with, make sure that you have installed OpenMPI and BlueFog in your system first.\n",
    "Besides these, you also need to install [ipyparallel](https://ipyparallel.readthedocs.io/en/latest/index.html) package for managering the parallel computation.\n",
    "Usually, you can install it through `pip install jupyter ipyparallel`.\n",
    "\n",
    "## Steps to run Bluefog with Jupyter Notebook\n",
    "\n",
    "- **Step 1: Start jupyter notebook**\n",
    "\n",
    "```shell\n",
    "jupyter notebook\n",
    "```\n",
    "\n",
    "- **Step 2A: Start the `ibfrun` (interactive bluefog run) in single machine**\n",
    "\n",
    "```shell\n",
    "ibfrun -np 4 start\n",
    "```\n",
    "where `np` means the number of process. In this example command, it will start 4 processes. You are free to choose any number between 1 and the number of CPU processes in you machine. \n",
    "\n",
    "- **Step 2B: Start the `ibfrun` in multiple machines**\n",
    "\n",
    "```shell\n",
    "ibfrun -np 16 -H machine1:4,machine2:4,machine3:4,machine4:4 start\n",
    "```\n",
    "where `machine1` to `machine4` are the machine name or the address of the machine and `:4` after the machine name means on that machine launch 4 processes. Before you run this command, please make sure that all the machines is able to be login through `ssh` **without** typing the password.\n",
    "\n",
    "That's it!\n",
    "\n",
    "**Other remakrs**\n",
    "- Please make sure the starting jupyter notebook command and the ibfrun command are under the same machine.\n",
    "- If you want to communicate over GPUs through NCCL, the number of process in each machine should not exceed the number GPUs instead of CPUs.\n",
    "\n"
   ]
  },
  {
   "cell_type": "code",
   "execution_count": 1,
   "metadata": {
    "ExecuteTime": {
     "end_time": "2021-01-02T01:57:44.573421Z",
     "start_time": "2021-01-02T01:57:43.495531Z"
    }
   },
   "outputs": [],
   "source": [
    "import numpy as np\n",
    "import torch\n",
    "import matplotlib.pyplot as plt\n",
    "%matplotlib inline"
   ]
  },
  {
   "cell_type": "markdown",
   "metadata": {},
   "source": [
    "# Connect the Jupyter Notebook to the Cluster (workers)\n",
    "\n",
    "The first step is to let the jupyter notebook connect to cluster. To achieve that, import the ipypyarallel library since we rely on it to manager the cluster, then connect it through `ipp.Client(profile=\"bluefog\")` as shown in the following cell.\n",
    "\n",
    "`rc` (remote client) is the key that you will use to send the code from this notebook (driver) to the cluster namely multiple workers. \n",
    "To check the notebook has connected to the worker succesfully, you can look the ID of remote clients through `rc.ids`\n",
    "Depending on how many processes you starts, the length of rc will be the same number as the number of process you start the `ibfrun`, i.e. the number after `-np`."
   ]
  },
  {
   "cell_type": "code",
   "execution_count": 2,
   "metadata": {
    "ExecuteTime": {
     "end_time": "2021-01-02T01:57:45.309973Z",
     "start_time": "2021-01-02T01:57:45.285024Z"
    }
   },
   "outputs": [
    {
     "data": {
      "text/plain": [
       "[0, 1, 2, 3]"
      ]
     },
     "execution_count": 2,
     "metadata": {},
     "output_type": "execute_result"
    }
   ],
   "source": [
    "import ipyparallel as ipp\n",
    "rc = ipp.Client(profile=\"bluefog\")\n",
    "rc.ids"
   ]
  },
  {
   "cell_type": "markdown",
   "metadata": {},
   "source": [
    "If you saw the `ids` is an empty list, this means ipyparallel cannot connect it with the clusters. You can stop the `ibfrun` by `ctrl+c`. Kill all remainning `ipcontroller` or `mpi` processes through `ps` if necessary. Then, try to rerun the `ibfrun` again."
   ]
  },
  {
   "cell_type": "markdown",
   "metadata": {},
   "source": [
    "#  Parallel execution through `px`\n",
    "\n",
    "`px` -- parallel execution is a [magic command](https://ipython.readthedocs.io/en/stable/interactive/magics.html) in IPython environment similar as the `%matplotlib` or `%%timeit`. If you are not familar with magic command, you can think it as a special command in IPython that will change the behavior of IPython to interprete the following python code. As the same for all magic commands, `%px` is for one line and `%%px` is for whole cell. For example \n",
    "`%px print(\"Hello world\")` will put the `print(\"Hello world\")` to run under the `px` environment. And, if you put the `%%px` at the top of one cell, the rest code in that cell all will be run under the `px` environment.\n",
    "\n",
    "The code under the `px` env will be executed into all each worker in parallel instead of running in this notebook.\n",
    "It is important to rememebr that each worker are one seperated IPython environment as well. The following is hello-world example to work with bluefog in jupyter notebook, which is already sufficient for most  usage cases. You can find more advanced usage of `px` in the [document page](https://ipyparallel.readthedocs.io/en/latest/magics.html).\n"
   ]
  },
  {
   "cell_type": "code",
   "execution_count": 3,
   "metadata": {
    "ExecuteTime": {
     "end_time": "2021-01-02T01:57:46.578543Z",
     "start_time": "2021-01-02T01:57:46.536076Z"
    }
   },
   "outputs": [
    {
     "name": "stdout",
     "output_type": "stream",
     "text": [
      "[stdout:0] Hello, I am 2 among 4 processes\n",
      "[stdout:1] Hello, I am 3 among 4 processes\n",
      "[stdout:2] Hello, I am 0 among 4 processes\n",
      "[stdout:3] Hello, I am 1 among 4 processes\n"
     ]
    }
   ],
   "source": [
    "%%px\n",
    "import bluefog.torch as bf\n",
    "\n",
    "bf.init()\n",
    "message = f\"Hello, I am {bf.rank()} among {bf.size()} processes\"\n",
    "print(message)"
   ]
  },
  {
   "cell_type": "markdown",
   "metadata": {},
   "source": [
    "You should see `Hello, I am {x} among {np} processes` repeated np time where `x` ranges from 0 to np-1. This `x` is called rank. Note the code is the same while the output is different. This is the typical usage of BlueFog code, which belong to the Single Instruction, Mutliple Data [SIMD](https://en.wikipedia.org/wiki/SIMD) pattern. Hence, `bf.rank()` is the key identity for the coding."
   ]
  },
  {
   "cell_type": "markdown",
   "metadata": {},
   "source": [
    "# Moving the data between workers and driver\n",
    "\n",
    "Only executing the BlueFog code in multiple worker through notebook is not interesting enough. Because all running results only remains in the worker. The notebook do not know those results by default. You can try to run `print(message)` in the cell without `px`, you will encouter the not define error.\n",
    "\n",
    "Fortunately, we can easily extract or pass the data and object between workers and driver.\n",
    "The key componenet is Direct View class through `dview=rc[:]`. Using `dview.push()` and `dview.pull()`, it transmits the data between workers and driver."
   ]
  },
  {
   "cell_type": "code",
   "execution_count": 4,
   "metadata": {
    "ExecuteTime": {
     "end_time": "2021-01-02T01:57:47.906348Z",
     "start_time": "2021-01-02T01:57:47.882825Z"
    }
   },
   "outputs": [],
   "source": [
    "%%px\n",
    "import torch\n",
    "x = torch.FloatTensor([bf.rank()])"
   ]
  },
  {
   "cell_type": "markdown",
   "metadata": {},
   "source": [
    "Now all workers have the tensor `x` that only contains the 1x1 value equals their rank."
   ]
  },
  {
   "cell_type": "code",
   "execution_count": 5,
   "metadata": {
    "ExecuteTime": {
     "end_time": "2021-01-02T01:57:48.829090Z",
     "start_time": "2021-01-02T01:57:48.794129Z"
    }
   },
   "outputs": [
    {
     "data": {
      "text/plain": [
       "tensor([2.])"
      ]
     },
     "execution_count": 5,
     "metadata": {},
     "output_type": "execute_result"
    }
   ],
   "source": [
    "dview = rc[:] # A DirectView of all engines\n",
    "dview.block=True\n",
    "x_at_rank0 = dview.pull('x', targets=0)\n",
    "x_at_rank0"
   ]
  },
  {
   "cell_type": "markdown",
   "metadata": {},
   "source": [
    "What above the code did is that notebook pull the value `x` of worker 0. Note the worker 0 may not be the worker has rank 0. Hence, the value may not be zero. You also pull the results of all works or so partial."
   ]
  },
  {
   "cell_type": "code",
   "execution_count": 6,
   "metadata": {
    "ExecuteTime": {
     "end_time": "2021-01-02T01:57:49.660222Z",
     "start_time": "2021-01-02T01:57:49.637871Z"
    }
   },
   "outputs": [
    {
     "data": {
      "text/plain": [
       "[tensor([3.]), tensor([0.])]"
      ]
     },
     "execution_count": 6,
     "metadata": {},
     "output_type": "execute_result"
    }
   ],
   "source": [
    "xs_at_1_and_2 = dview.pull('x', targets=[1, 2])\n",
    "xs_at_1_and_2"
   ]
  },
  {
   "cell_type": "code",
   "execution_count": 7,
   "metadata": {
    "ExecuteTime": {
     "end_time": "2021-01-02T01:57:50.152933Z",
     "start_time": "2021-01-02T01:57:50.133520Z"
    }
   },
   "outputs": [
    {
     "data": {
      "text/plain": [
       "[tensor([2.]), tensor([3.]), tensor([0.]), tensor([1.])]"
      ]
     },
     "execution_count": 7,
     "metadata": {},
     "output_type": "execute_result"
    }
   ],
   "source": [
    "xs_all = dview.pull('x')\n",
    "xs_all"
   ]
  },
  {
   "cell_type": "markdown",
   "metadata": {},
   "source": [
    "You can also push the data from the notebook to all works through `dview.push(arg)`, of which the argument is a dictionary that map from the variable name to variable value."
   ]
  },
  {
   "cell_type": "code",
   "execution_count": 8,
   "metadata": {
    "ExecuteTime": {
     "end_time": "2021-01-02T01:57:50.995684Z",
     "start_time": "2021-01-02T01:57:50.958241Z"
    }
   },
   "outputs": [
    {
     "data": {
      "text/plain": [
       "[None, None, None, None]"
      ]
     },
     "execution_count": 8,
     "metadata": {},
     "output_type": "execute_result"
    }
   ],
   "source": [
    "# Push the data into all workers\n",
    "dview.push({'seed': 12345})"
   ]
  },
  {
   "cell_type": "code",
   "execution_count": 9,
   "metadata": {
    "ExecuteTime": {
     "end_time": "2021-01-02T01:57:51.537434Z",
     "start_time": "2021-01-02T01:57:51.494034Z"
    }
   },
   "outputs": [
    {
     "name": "stdout",
     "output_type": "stream",
     "text": [
      "[stdout:0] I received seed as value:  12345\n",
      "[stdout:1] I received seed as value:  12345\n",
      "[stdout:2] I received seed as value:  12345\n",
      "[stdout:3] I received seed as value:  12345\n"
     ]
    }
   ],
   "source": [
    "%%px\n",
    "print(\"I received seed as value: \", seed)"
   ]
  },
  {
   "cell_type": "markdown",
   "metadata": {},
   "source": [
    "# A simple average-consensus example\n",
    "\n",
    "Now, with px magic command and direct-view, we are good to run and plot a simple average-consensus example."
   ]
  },
  {
   "cell_type": "code",
   "execution_count": 10,
   "metadata": {
    "ExecuteTime": {
     "end_time": "2021-01-02T01:57:52.603820Z",
     "start_time": "2021-01-02T01:57:52.562805Z"
    }
   },
   "outputs": [],
   "source": [
    "%%px\n",
    "\n",
    "# It is import to give different random seed to different workers.\n",
    "torch.random.manual_seed(seed * bf.rank() + bf.rank())\n",
    "\n",
    "data_size = 10\n",
    "max_iters = 100"
   ]
  },
  {
   "cell_type": "code",
   "execution_count": 11,
   "metadata": {
    "ExecuteTime": {
     "end_time": "2021-01-02T01:57:57.555700Z",
     "start_time": "2021-01-02T01:57:53.508403Z"
    }
   },
   "outputs": [],
   "source": [
    "%%px\n",
    "import bluefog.common.topology_util as topology_util\n",
    "\n",
    "# Set exponential-2 graph as topology, which is default actaully.\n",
    "assert bf.set_topology(topology_util.ExponentialTwoGraph(bf.size()))\n",
    "\n",
    "# Create a random data to run consensus\n",
    "x = torch.randn(data_size, dtype=torch.double)\n",
    "\n",
    "# Use allreduce to find the truth of average for reference\n",
    "x_bar = bf.allreduce(x, average=True)\n",
    "\n",
    "mse = []\n",
    "for ite in range(max_iters):\n",
    "    # The following code is equivalent to:\n",
    "    #  x_i = \\sum_{j\\in Neighbor(i)} a_ij x_j\n",
    "    # where a_ij is entry of the combination matrix \n",
    "    # that definied through the set_topology command.\n",
    "    x = bf.neighbor_allreduce(x, name='x')\n",
    "    mse.append(torch.norm(x-x_bar, p=2) / torch.norm(x_bar, p=2))"
   ]
  },
  {
   "cell_type": "code",
   "execution_count": 12,
   "metadata": {
    "ExecuteTime": {
     "end_time": "2021-01-02T01:57:57.616173Z",
     "start_time": "2021-01-02T01:57:57.558037Z"
    }
   },
   "outputs": [],
   "source": [
    "mse_0 = dview.pull('mse', block=True, targets=0)"
   ]
  },
  {
   "cell_type": "code",
   "execution_count": 13,
   "metadata": {
    "ExecuteTime": {
     "end_time": "2021-01-02T01:57:58.236412Z",
     "start_time": "2021-01-02T01:57:57.619230Z"
    }
   },
   "outputs": [
    {
     "data": {
      "text/plain": [
       "[<matplotlib.lines.Line2D at 0x7f9fc0821450>]"
      ]
     },
     "execution_count": 13,
     "metadata": {},
     "output_type": "execute_result"
    },
    {
     "data": {
      "image/png": "[encoded data removed]",
      "text/plain": [
       "<Figure size 432x288 with 1 Axes>"
      ]
     },
     "metadata": {
      "needs_background": "light"
     },
     "output_type": "display_data"
    }
   ],
   "source": [
    "plt.semilogy(mse_0)"
   ]
  },
  {
   "cell_type": "markdown",
   "metadata": {},
   "source": [
    "You can also plot the multiple figures from multiple works by adding `--targets 1:3` after `px`. In this case, worker 1 and worker 2 will plot the figures."
   ]
  },
  {
   "cell_type": "code",
   "execution_count": 14,
   "metadata": {
    "ExecuteTime": {
     "end_time": "2021-01-02T01:58:00.419145Z",
     "start_time": "2021-01-02T01:57:59.965496Z"
    }
   },
   "outputs": [
    {
     "data": {
      "text/plain": [
       "[output:1]"
      ]
     },
     "metadata": {},
     "output_type": "display_data"
    },
    {
     "data": {
      "image/png": "[encoded data removed]",
      "text/plain": [
       "<Figure size 432x288 with 1 Axes>"
      ]
     },
     "metadata": {
      "engine": 1,
      "needs_background": "light"
     },
     "output_type": "display_data"
    },
    {
     "data": {
      "text/plain": [
       "[output:2]"
      ]
     },
     "metadata": {},
     "output_type": "display_data"
    },
    {
     "data": {
      "image/png": "[encoded data removed]",
      "text/plain": [
       "<Figure size 432x288 with 1 Axes>"
      ]
     },
     "metadata": {
      "engine": 2,
      "needs_background": "light"
     },
     "output_type": "display_data"
    }
   ],
   "source": [
    "%%px  --targets 1:3\n",
    "import matplotlib.pyplot as plt\n",
    "%matplotlib inline\n",
    "plt.semilogy(mse)\n",
    "plt.show()"
   ]
  },
  {
   "cell_type": "markdown",
   "metadata": {},
   "source": [
    "# What happens after you run `ibfrun`\n",
    "\n",
    "If you are curious about what happened after running the ibfrun, the following figure should give you a good overview.\n",
    "\n",
    "<img src=\"./images/ibfrun.png\" alt=\"ibfrun\" width=\"780\"/>\n",
    "\n",
    "When you start the jupyter notebook, you will create a IPython client, which will keep recieving and executing the command from the notebook. `ibfrun` will create a controller and bunch of workers (it is just IPython Kernel actually) under the MPI environment. The controller knows how to communicate with the IPython client and the workers. When you execute the code under `px` environment, what happens:\n",
    "\n",
    "1. Send code back to the IPython client\n",
    "2. The IPython client notices this code is need to be run under `px` so it forward the code to the controller.\n",
    "3. The controller forward the code to the worker according the targets. By default, it will forward to all workers.\n",
    "4. The workers accept the command and execute it in parallel. If there is data exchange between the processes, it will communicate through the MPI.\n",
    "5. When all workers finished the executing the code, it will reverse the path to tell the jupyter noteboo that execute is done.\n",
    "\n",
    "\n",
    "As for the push and pull command in direct view, it is similar as the `px` data flow.\n",
    "\n",
    "Last, notice that `ibfrun` is just a thin wrapper for convenience over the command provided by the `ipyparallel`. If you have some speical requirement or you have problem of executing `ibfrun`, you can use the `ipcontroller` or `ipengin` command directly. Check [ipyparallel document](https://ipyparallel.readthedocs.io/en/latest/process.html) for more details."
   ]
  },
  {
   "cell_type": "markdown",
   "metadata": {},
   "source": [
    "## Suspend BlueFog\n",
    "Bluefog will launch a background process, which may consume lots of your CPU usage\n",
    "even if you don't use it actively. You can suspend it through `bf.suspend()`.\n",
    "Note after it is suspended, you no longer are able to run BlueFog communication function.\n",
    "You can continue the usage through `bf.resume()` again."
   ]
  },
  {
   "cell_type": "code",
   "execution_count": 15,
   "metadata": {
    "ExecuteTime": {
     "end_time": "2021-01-02T01:58:05.610701Z",
     "start_time": "2021-01-02T01:58:05.579153Z"
    }
   },
   "outputs": [],
   "source": [
    "%%px\n",
    "bf.suspend()"
   ]
  },
  {
   "cell_type": "code",
   "execution_count": 16,
   "metadata": {
    "ExecuteTime": {
     "end_time": "2021-01-02T01:58:06.154380Z",
     "start_time": "2021-01-02T01:58:06.130947Z"
    }
   },
   "outputs": [],
   "source": [
    "%%px\n",
    "bf.resume()"
   ]
  },
  {
   "cell_type": "code",
   "execution_count": null,
   "metadata": {},
   "outputs": [],
   "source": []
  }
 ],
 "metadata": {
  "kernelspec": {
   "display_name": "Python 3",
   "language": "python",
   "name": "python3"
  },
  "language_info": {
   "codemirror_mode": {
    "name": "ipython",
    "version": 3
   },
   "file_extension": ".py",
   "mimetype": "text/x-python",
   "name": "python",
   "nbconvert_exporter": "python",
   "pygments_lexer": "ipython3",
   "version": "3.7.5"
  },
  "toc": {
   "base_numbering": 1,
   "nav_menu": {},
   "number_sections": true,
   "sideBar": true,
   "skip_h1_title": false,
   "title_cell": "Table of Contents",
   "title_sidebar": "Contents",
   "toc_cell": false,
   "toc_position": {},
   "toc_section_display": true,
   "toc_window_display": false
  }
 },
 "nbformat": 4,
 "nbformat_minor": 2
}
