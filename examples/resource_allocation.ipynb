{
 "cells": [
  {
   "cell_type": "markdown",
   "metadata": {},
   "source": [
    "# Solving Decentralizded Optimal Exchange Problem with BlueFog "
   ]
  },
  {
   "cell_type": "markdown",
   "metadata": {},
   "source": [
    "#### In this example, you will learn:"
   ]
  },
  {
   "cell_type": "markdown",
   "metadata": {},
   "source": [
    "- How to solve optimal exchange problem with centralized ADMM;\n",
    "\n",
    "\n",
    "- How to solve optimal exchange problem with decentralized algorithms such as EXTRA, Exact Diffusion, and Gradient Tracking;\n",
    "\n",
    "\n",
    "- How to setup topology, determine weights, and run neighbor_allreduce with BlueFog;\n",
    "\n",
    "\n",
    "- How to use BlueFog functions such as **bf.allreduce(), bf.neighbor_allreduce(), bf.load_topology(), bf.set_topology(), topology_util.GetRecvWeights()**, and **topology_util.ExponentialTwoGraph()**\n",
    "\n",
    "\n",
    "- How to implement EXTRA, Exact Diffusion, and Gradient Tracking with BlueFog"
   ]
  },
  {
   "cell_type": "markdown",
   "metadata": {},
   "source": [
    "**Note**: If you are not familiar with how to use BlueFog with Jupyter Notebook, please check out the example [interactive_bluefog_helloworld.ipynb](https://github.com/Bluefog-Lib/bluefog/blob/master/examples/interactive_bluefog_helloworld.ipynb) first."
   ]
  },
  {
   "cell_type": "markdown",
   "metadata": {},
   "source": [
    "## 1. Optimal exchange problem"
   ]
  },
  {
   "cell_type": "markdown",
   "metadata": {},
   "source": [
    "A network of $n$ nodes collaborate to solve an optimal exchange problem as follows:"
   ]
  },
  {
   "cell_type": "markdown",
   "metadata": {},
   "source": [
    "$$\\min_{\\{x_i\\}} \\ \\sum_{i=1}^n f_i(x_i) \\quad \\mathrm{s.t.}\\ \\sum_{i=1}^n x_i = 0.$$"
   ]
  },
  {
   "cell_type": "markdown",
   "metadata": {},
   "source": [
    "This and related problems have a long history in economics, particularly in the theories\n",
    "of market exchange, resource allocation, and general equilibrium. In this example, we will simulate how EXTRA, Exact Diffusion, and Gradient Tracking solve the above problem over a cluster of $n$ CPUs. "
   ]
  },
  {
   "cell_type": "markdown",
   "metadata": {},
   "source": [
    "## 2. KKT Condition"
   ]
  },
  {
   "cell_type": "markdown",
   "metadata": {},
   "source": [
    "The Lagrangian function of the optimal exchange problem is:"
   ]
  },
  {
   "cell_type": "markdown",
   "metadata": {},
   "source": [
    "$$L(x, y) = \\sum_{i=1}^n f_i(x_i) + y^T(\\sum_{i=1}^n x_i)$$"
   ]
  },
  {
   "cell_type": "markdown",
   "metadata": {},
   "source": [
    "where $y$ is the dual variable. The KKT condition is:"
   ]
  },
  {
   "cell_type": "markdown",
   "metadata": {},
   "source": [
    "\\begin{equation*}\n",
    "\\begin{split}\n",
    "\\nabla f_i(x_i) + y & = 0, \\quad \\forall\\ i\\in [n] \\\\\n",
    "\\sum_{i=1}^n x_i & = 0. \n",
    "\\end{split}\n",
    "\\end{equation*}"
   ]
  },
  {
   "cell_type": "markdown",
   "metadata": {},
   "source": [
    "One can use the KKT condition to examine the quality of the calculated solution."
   ]
  },
  {
   "cell_type": "markdown",
   "metadata": {},
   "source": [
    "## 3. Experiment Setup"
   ]
  },
  {
   "cell_type": "markdown",
   "metadata": {},
   "source": [
    "For simplicity, we assume $f_i(x) = \\frac{1}{2}\\|A_i x_i - b_i\\|^2$ in which $A_i$ and $b_i$ are generated through uniform Gaussian distribution. "
   ]
  },
  {
   "cell_type": "markdown",
   "metadata": {},
   "source": [
    "### 3.1 Basic setup"
   ]
  },
  {
   "cell_type": "markdown",
   "metadata": {},
   "source": [
    "Before generating the data, let's setup the basic experimental environment and make sure the communication between the rank and the driver is normal."
   ]
  },
  {
   "cell_type": "code",
   "execution_count": 1,
   "metadata": {},
   "outputs": [],
   "source": [
    "import ipyparallel as ipp\n",
    "import numpy as np\n",
    "import torch\n",
    "import networkx as nx   # nx will be used for network topology creating and plotting\n",
    "import matplotlib.pyplot as plt\n",
    "%matplotlib inline"
   ]
  },
  {
   "cell_type": "markdown",
   "metadata": {},
   "source": [
    "After running the following cell, you will see {np} (where `np` is the number of processes you created with command `ibfrun start -np XX`) outputs and each output should have different rank number."
   ]
  },
  {
   "cell_type": "code",
   "execution_count": 4,
   "metadata": {},
   "outputs": [
    {
     "data": {
      "text/plain": [
       "[0, 1, 2, 3, 4, 5, 6, 7]"
      ]
     },
     "execution_count": 4,
     "metadata": {},
     "output_type": "execute_result"
    }
   ],
   "source": [
    "rc = ipp.Client(profile='bluefog')\n",
    "rc.ids"
   ]
  },
  {
   "cell_type": "code",
   "execution_count": 5,
   "metadata": {},
   "outputs": [
    {
     "name": "stdout",
     "output_type": "stream",
     "text": [
      "[stdout:0] Hello, I am 1 among 8 processes\n",
      "[stdout:1] Hello, I am 0 among 8 processes\n",
      "[stdout:2] Hello, I am 4 among 8 processes\n",
      "[stdout:3] Hello, I am 3 among 8 processes\n",
      "[stdout:4] Hello, I am 2 among 8 processes\n",
      "[stdout:5] Hello, I am 5 among 8 processes\n",
      "[stdout:6] Hello, I am 6 among 8 processes\n",
      "[stdout:7] Hello, I am 7 among 8 processes\n"
     ]
    }
   ],
   "source": [
    "%%px\n",
    "import numpy as np\n",
    "import bluefog.torch as bf\n",
    "import torch\n",
    "from bluefog.common import topology_util\n",
    "import networkx as nx\n",
    "\n",
    "bf.init()\n",
    "print(f\"Hello, I am {bf.rank()} among {bf.size()} processes\")"
   ]
  },
  {
   "cell_type": "code",
   "execution_count": 6,
   "metadata": {},
   "outputs": [],
   "source": [
    "dview = rc[:] # A DirectView of all engines\n",
    "dview.block=True"
   ]
  },
  {
   "cell_type": "markdown",
   "metadata": {},
   "source": [
    "### 3.2 Generate data"
   ]
  },
  {
   "cell_type": "code",
   "execution_count": 7,
   "metadata": {},
   "outputs": [
    {
     "data": {
      "text/plain": [
       "[None, None, None, None, None, None, None, None]"
      ]
     },
     "execution_count": 7,
     "metadata": {},
     "output_type": "execute_result"
    }
   ],
   "source": [
    "# Push the data into all workers\n",
    "dview.push({'seed': 2021}, block=True)"
   ]
  },
  {
   "cell_type": "code",
   "execution_count": 8,
   "metadata": {},
   "outputs": [
    {
     "name": "stdout",
     "output_type": "stream",
     "text": [
      "[stdout:0] I received seed as value:  2021\n",
      "[stdout:1] I received seed as value:  2021\n",
      "[stdout:2] I received seed as value:  2021\n",
      "[stdout:3] I received seed as value:  2021\n",
      "[stdout:4] I received seed as value:  2021\n",
      "[stdout:5] I received seed as value:  2021\n",
      "[stdout:6] I received seed as value:  2021\n",
      "[stdout:7] I received seed as value:  2021\n"
     ]
    }
   ],
   "source": [
    "%%px\n",
    "print(\"I received seed as value: \", seed)"
   ]
  },
  {
   "cell_type": "code",
   "execution_count": 9,
   "metadata": {},
   "outputs": [],
   "source": [
    "%%px\n",
    "m = 10 # number of rows of A\n",
    "d = 5  # number of cols of A\n",
    "torch.random.manual_seed(seed * bf.rank())  # make sure different rank has different seed\n",
    "\n",
    "A = torch.rand(m, d).to(torch.double)\n",
    "b = torch.rand(m, 1).to(torch.double)"
   ]
  },
  {
   "cell_type": "markdown",
   "metadata": {},
   "source": [
    "## 4. Achieve solution $x^\\star$ with distributed ADMM"
   ]
  },
  {
   "cell_type": "markdown",
   "metadata": {},
   "source": [
    "### 4.1 Algorithm"
   ]
  },
  {
   "cell_type": "markdown",
   "metadata": {},
   "source": [
    "Distributed ADMM is proposed in Ref. [[1]](https://stanford.edu/~boyd/papers/pdf/admm_distr_stats.pdf). It involves an all-reduce operation to conduct **global averaging** over each local variable across the network. The update is as follows:"
   ]
  },
  {
   "cell_type": "markdown",
   "metadata": {},
   "source": [
    "\\begin{equation*}\n",
    "\\begin{split}\n",
    "x_i^{k+1} &= \\arg\\min_{x_i}\\{ f_i(x_i) + \\frac{\\rho}{2}\\|x_i - x_i^k + \\bar{x}^k + u^k \\|^2 \\} \\\\\n",
    "u^{k+1} &= u^k + \\bar{x}^{k+1}\n",
    "\\end{split}\n",
    "\\end{equation*}"
   ]
  },
  {
   "cell_type": "markdown",
   "metadata": {},
   "source": [
    "where $y^k = \\rho u^k$ and $\\bar{x}^k = ({1}/{n})\\sum_{i=1}^n x_i^k$ will be updated through the all-reduce operation. When $f_i(x_i) = (1/2)\\|A_i x_i - b_i\\|^2$, the above recursion becomes"
   ]
  },
  {
   "cell_type": "markdown",
   "metadata": {},
   "source": [
    "\\begin{equation*}\n",
    "\\begin{split}\n",
    "x_i^{k+1} &= \\arg\\min_{x_i} \\big( \\frac{1}{2}\\|A_i x_i - b_i\\|^2 + \\frac{\\rho}{2}\\|x_i - x_i^k + \\bar{x}^k + u^k \\|^2 \\big) = (\\rho I + A_i^T A_i)^{-1} (A_i^T b_i + \\rho x_i^k - \\bar{x}^k - u^k) \\\\\n",
    "u^{k+1} &= u^k + \\bar{x}^{k+1}\n",
    "\\end{split}\n",
    "\\end{equation*}"
   ]
  },
  {
   "cell_type": "code",
   "execution_count": 10,
   "metadata": {},
   "outputs": [],
   "source": [
    "%%px\n",
    "\n",
    "# centralized ADMM\n",
    "def centralized_ADMM_one_recursion(x, x_bar, u, IpATA):\n",
    "    \n",
    "    x = IpATA.mm(A.T.mm(b) + rho*x - x_bar - u)\n",
    "    x_bar = bf.allreduce(x, average=True)\n",
    "    u += x_bar\n",
    "    \n",
    "    return x, x_bar, u"
   ]
  },
  {
   "cell_type": "code",
   "execution_count": 11,
   "metadata": {},
   "outputs": [],
   "source": [
    "%%px\n",
    "\n",
    "# initialization\n",
    "rho = 1\n",
    "\n",
    "x = torch.zeros(d, 1)\n",
    "x_bar = torch.zeros(d, 1)\n",
    "u = torch.zeros(d, 1)\n",
    "IpATA = torch.inverse(rho * torch.eye(d) + A.T.mm(A))"
   ]
  },
  {
   "cell_type": "code",
   "execution_count": 12,
   "metadata": {},
   "outputs": [
    {
     "name": "stdout",
     "output_type": "stream",
     "text": [
      "Progress 0/500\n",
      "Progress 100/500\n",
      "Progress 200/500\n",
      "Progress 300/500\n",
      "Progress 400/500\n"
     ]
    }
   ],
   "source": [
    "# run algorithm\n",
    "maxite = 500\n",
    "for ite in range(maxite):\n",
    "    \n",
    "    if ite%100 == 0:\n",
    "        print('Progress {}/{}'.format(ite, maxite))\n",
    "        \n",
    "    %px x, x_bar, u = centralized_ADMM_one_recursion(x, x_bar, u, IpATA)\n",
    "    \n",
    "# store solution\n",
    "%px x_sol = x.clone()"
   ]
  },
  {
   "cell_type": "markdown",
   "metadata": {},
   "source": [
    "### 4.2 Check optimality"
   ]
  },
  {
   "cell_type": "markdown",
   "metadata": {},
   "source": [
    "When $f_i(x_i) = (1/2)\\|A_i x_i - b_i\\|^2$, the KKT condition of the optimal exchange problem becomes"
   ]
  },
  {
   "cell_type": "markdown",
   "metadata": {},
   "source": [
    "$$A_i^T(A_i x_i - b) + y = 0, \\quad \\sum_{i=1}^n x_i = 0$$"
   ]
  },
  {
   "cell_type": "markdown",
   "metadata": {},
   "source": [
    "After running the following cell, you should observe that the above KKT conditons are satisfied witht the newly achieved $x_i^k$, $\\bar{x}^k$ and $y^k$"
   ]
  },
  {
   "cell_type": "code",
   "execution_count": 13,
   "metadata": {},
   "outputs": [
    {
     "name": "stdout",
     "output_type": "stream",
     "text": [
      "[stdout:0] \n",
      "tensor(7.1352e-08, dtype=torch.float64)\n",
      "tensor(7.1352e-08, dtype=torch.float64)\n",
      "[stdout:1] \n",
      "tensor(7.1352e-08, dtype=torch.float64)\n",
      "tensor(7.1352e-08, dtype=torch.float64)\n",
      "[stdout:2] \n",
      "tensor(7.1352e-08, dtype=torch.float64)\n",
      "tensor(7.1352e-08, dtype=torch.float64)\n",
      "[stdout:3] \n",
      "tensor(7.1352e-08, dtype=torch.float64)\n",
      "tensor(7.1352e-08, dtype=torch.float64)\n",
      "[stdout:4] \n",
      "tensor(7.1352e-08, dtype=torch.float64)\n",
      "tensor(7.1352e-08, dtype=torch.float64)\n",
      "[stdout:5] \n",
      "tensor(7.1352e-08, dtype=torch.float64)\n",
      "tensor(7.1352e-08, dtype=torch.float64)\n",
      "[stdout:6] \n",
      "tensor(7.1352e-08, dtype=torch.float64)\n",
      "tensor(7.1352e-08, dtype=torch.float64)\n",
      "[stdout:7] \n",
      "tensor(7.1352e-08, dtype=torch.float64)\n",
      "tensor(7.1352e-08, dtype=torch.float64)\n"
     ]
    }
   ],
   "source": [
    "%%px\n",
    "\n",
    "# check optimality\n",
    "\n",
    "y = u*rho\n",
    "print(torch.norm(A.T.mm(A.mm(x_sol) - b) + y, p=2))\n",
    "print(torch.norm(x_bar, p=2))"
   ]
  },
  {
   "cell_type": "markdown",
   "metadata": {},
   "source": [
    "## 5. Optimal exchange: the dual problem"
   ]
  },
  {
   "cell_type": "markdown",
   "metadata": {},
   "source": [
    "Recall the Lagrangian function of the optimal exchange problem:"
   ]
  },
  {
   "cell_type": "markdown",
   "metadata": {},
   "source": [
    "$$L(x, y) = \\sum_{i=1}^n f_i(x_i) + y^T(\\sum_{i=1}^n x_i)$$"
   ]
  },
  {
   "cell_type": "markdown",
   "metadata": {},
   "source": [
    "The dual function is thus given by:"
   ]
  },
  {
   "cell_type": "markdown",
   "metadata": {},
   "source": [
    "$$g(y) = \\min_{\\{x_i\\}} \\sum_{i=1}^n f_i(x_i) + y^T(\\sum_{i=1}^n x_i) = \\sum_{i=1}^n \\min_{x_i}\\{f_i(x_i) + y^T x_i \\} = - \\sum_{i=1}^n \\max_{x_i}\\ \\{-f_i(x_i) - y^T x_i\\} = - \\sum_{i=1}^n f_i^*(-y)$$"
   ]
  },
  {
   "cell_type": "markdown",
   "metadata": {},
   "source": [
    "As a result, the dual problem is"
   ]
  },
  {
   "cell_type": "markdown",
   "metadata": {},
   "source": [
    "$$\\min_y \\sum_{i=1}^n f_i^*(-y), \\quad \\mbox{where} \\quad f_i^*(-y) = \\max_{x_i} \\{-f_i(x_i) - y^T x_i\\} = -f_i(x_i^*) - y^T x_i^*$$"
   ]
  },
  {
   "cell_type": "markdown",
   "metadata": {},
   "source": [
    "Now we define $F_i(y) = f_i^*(-y) = -f_i(x_i^*) - y^T x_i^*$, then the dual problem becomes a **consensus** problem:"
   ]
  },
  {
   "cell_type": "markdown",
   "metadata": {},
   "source": [
    "\\begin{align*}\n",
    "\\label{consensus}\n",
    "\\min_y \\sum_{i=1}^n F_i(y).\n",
    "\\end{align*}"
   ]
  },
  {
   "cell_type": "markdown",
   "metadata": {},
   "source": [
    "Note that the above problem is **differentiable**, and each local gradient is $\\nabla F_i(y) = - x_i^* = - \\arg\\min_{x_i}\\{f_i(x_i) + y^T x_i\\}$. "
   ]
  },
  {
   "cell_type": "markdown",
   "metadata": {},
   "source": [
    "When $f_i(x_i) = (1/2)\\|A_i x_i - b_i\\|^2$, we have $\\nabla F_i(y) = - x_i^* = - (A_i^T A_i)^{-1}(A_i^T b_i - y)$."
   ]
  },
  {
   "cell_type": "markdown",
   "metadata": {},
   "source": [
    "## 6. Decentralized algorithms"
   ]
  },
  {
   "cell_type": "markdown",
   "metadata": {},
   "source": [
    "Since the dual problem is the consensus problem, there exist many well-known decentralized algorithms to solve it effectively. In this example, we examine EXTRA [[2]](https://arxiv.org/abs/1404.6264), Exact Diffusion [[3]](https://arxiv.org/abs/1702.05122), and Gradient Tracking [[4]](https://arxiv.org/abs/1607.03218)."
   ]
  },
  {
   "cell_type": "markdown",
   "metadata": {},
   "source": [
    "### 6.1 EXTRA"
   ]
  },
  {
   "cell_type": "markdown",
   "metadata": {},
   "source": [
    "To solve the dual consensus problem, EXTRA has the following recursions:"
   ]
  },
  {
   "cell_type": "markdown",
   "metadata": {},
   "source": [
    "\\begin{equation*}\n",
    "\\begin{split}\n",
    "y_i^{k+1} & = \\sum_{j=1}^n \\bar{w}_{ij}\\big( 2 y_j^k - y_j^{k-1}\\big) - \\alpha \\big(g_i(y_i^{k}) - g_i(y_i^{k-1})\\big), \\quad k=1,2,\\cdots  \\\\\n",
    "x_i^{k+1} &= - g_i(y_i^{k+1})\n",
    "\\end{split}\n",
    "\\end{equation*}"
   ]
  },
  {
   "cell_type": "markdown",
   "metadata": {},
   "source": [
    "where $g_j(y) = \\nabla F_j(y)$, and we set the initialization $y_i^{1} = y_i^{0} = 0$, and let $g_i(y_i^{0}) = 0$. The weight $\\bar{w}_{ij}$ is defined as:"
   ]
  },
  {
   "cell_type": "markdown",
   "metadata": {},
   "source": [
    "\\begin{equation*}\n",
    "\\bar{w}_{ij}=\n",
    "\\left\\{\n",
    "\\begin{array}{ll}\n",
    "(1+w_{ii})/2 & \\mbox{if $i=j$} \\\\\n",
    "w_{ij}/2 & \\mbox{otherwise}\n",
    "\\end{array}\n",
    "\\right.\n",
    "\\end{equation*}"
   ]
  },
  {
   "cell_type": "code",
   "execution_count": 14,
   "metadata": {},
   "outputs": [],
   "source": [
    "%%px\n",
    "\n",
    "# EXTRA\n",
    "def EXTRA_one_recursion(y, gp, yp, ATA, A, b, x_sol, lr, self_weight, neighbor_weights):\n",
    "    \n",
    "    x = ATA.mm(A.T.mm(b) - y)\n",
    "    g = -x\n",
    "    yn = bf.neighbor_allreduce(2*y - yp, self_weight, neighbor_weights, name='y')\n",
    "    yn = yn - lr*(g - gp)\n",
    "    gp = g.clone()\n",
    "    yp = y.clone()\n",
    "    y  = yn.clone()\n",
    "    \n",
    "    dist = torch.norm(x - x_sol, p=2)/torch.norm(x_sol, p=2)\n",
    "    averaged_relative_error = bf.allreduce(dist**2, average=True)\n",
    "    record_extra.append(torch.sqrt(averaged_relative_error))\n",
    "    \n",
    "    return y, yp, gp"
   ]
  },
  {
   "cell_type": "code",
   "execution_count": 54,
   "metadata": {},
   "outputs": [],
   "source": [
    "%%px\n",
    "\n",
    "# initialization\n",
    "lr = 0.06\n",
    "ATA = torch.inverse(A.T.mm(A))\n",
    "y = torch.zeros(d, 1)\n",
    "yp = torch.zeros(d, 1)\n",
    "gp = torch.zeros(d, 1)\n",
    "record_extra = []"
   ]
  },
  {
   "cell_type": "markdown",
   "metadata": {},
   "source": [
    "In the following cell, we set the topology as the exponential-2 graph, and scale weights from $w$ to $\\bar{w}$."
   ]
  },
  {
   "cell_type": "code",
   "execution_count": 55,
   "metadata": {},
   "outputs": [
    {
     "data": {
      "image/png": "[encoded data removed]",
      "text/plain": [
       "<Figure size 432x288 with 1 Axes>"
      ]
     },
     "metadata": {},
     "output_type": "display_data"
    }
   ],
   "source": [
    "# plot figure\n",
    "%px G = topology_util.ExponentialTwoGraph(bf.size())\n",
    "\n",
    "G_0 = dview.pull('G', block=True, targets=0)\n",
    "nx.draw_circular(G_0)"
   ]
  },
  {
   "cell_type": "code",
   "execution_count": 56,
   "metadata": {},
   "outputs": [
    {
     "name": "stdout",
     "output_type": "stream",
     "text": [
      "[stdout:1] \n",
      "self weights: 0.25\n",
      "\n",
      "neighbor weights:\n",
      "4 0.25\n",
      "6 0.25\n",
      "7 0.25\n",
      "self weights: 0.625\n",
      "\n",
      "neighbor weights:\n",
      "4 0.125\n",
      "6 0.125\n",
      "7 0.125\n"
     ]
    }
   ],
   "source": [
    "%%px\n",
    "\n",
    "# set topology as exponetial-2 graph\n",
    "bf.set_topology(G)\n",
    "topology = bf.load_topology()\n",
    "self_weight, neighbor_weights = topology_util.GetRecvWeights(topology, bf.rank())\n",
    "\n",
    "# scale weights\n",
    "if bf.rank() == 0:\n",
    "    print('self weights: {}\\n'.format(self_weight))\n",
    "    print('neighbor weights:')\n",
    "    for k, v in neighbor_weights.items():\n",
    "        print(k, v)\n",
    "        \n",
    "self_weight = (self_weight+1)/2\n",
    "for k, v in neighbor_weights.items():\n",
    "    neighbor_weights[k] = v/2\n",
    "    \n",
    "if bf.rank() == 0:\n",
    "    print('self weights: {}\\n'.format(self_weight))\n",
    "    print('neighbor weights:')\n",
    "    for k, v in neighbor_weights.items():\n",
    "        print(k, v)"
   ]
  },
  {
   "cell_type": "code",
   "execution_count": 60,
   "metadata": {},
   "outputs": [
    {
     "name": "stdout",
     "output_type": "stream",
     "text": [
      "Progress 0/2000\n",
      "Progress 100/2000\n",
      "Progress 200/2000\n",
      "Progress 300/2000\n",
      "Progress 400/2000\n",
      "Progress 500/2000\n",
      "Progress 600/2000\n",
      "Progress 700/2000\n",
      "Progress 800/2000\n",
      "Progress 900/2000\n",
      "Progress 1000/2000\n",
      "Progress 1100/2000\n",
      "Progress 1200/2000\n",
      "Progress 1300/2000\n",
      "Progress 1400/2000\n",
      "Progress 1500/2000\n",
      "Progress 1600/2000\n",
      "Progress 1700/2000\n",
      "Progress 1800/2000\n",
      "Progress 1900/2000\n"
     ]
    }
   ],
   "source": [
    "# run EXTRA\n",
    "maxite = 2000\n",
    "\n",
    "for ite in range(maxite):\n",
    "    \n",
    "    if ite%100 == 0:\n",
    "        print('Progress {}/{}'.format(ite, maxite))\n",
    "        \n",
    "    %px y, yp, gp = EXTRA_one_recursion(y, gp, yp, ATA, A, b, x_sol, lr, self_weight, neighbor_weights)"
   ]
  },
  {
   "cell_type": "code",
   "execution_count": 61,
   "metadata": {},
   "outputs": [
    {
     "data": {
      "text/plain": [
       "<matplotlib.legend.Legend at 0x7f43dd6c8050>"
      ]
     },
     "execution_count": 61,
     "metadata": {},
     "output_type": "execute_result"
    },
    {
     "data": {
      "image/png": "[encoded data removed]",
      "text/plain": [
       "<Figure size 432x288 with 1 Axes>"
      ]
     },
     "metadata": {
      "needs_background": "light"
     },
     "output_type": "display_data"
    }
   ],
   "source": [
    "# pull averaged relative error list from node 0 \n",
    "record_extra_0 = dview.pull('record_extra', block=True, targets=0)\n",
    "%matplotlib inline\n",
    "plt.semilogy(record_extra_0)\n",
    "plt.xlabel('iteration', fontsize=16)\n",
    "plt.ylabel('relative error',fontsize=16)\n",
    "plt.legend(['EXTRA'],fontsize=16)"
   ]
  },
  {
   "cell_type": "markdown",
   "metadata": {},
   "source": [
    "**Note**: \n",
    "\n",
    "- The relative error is around $10^{-7}$ because the KKT conditon of the centralized solution is with the precision level $10^{-7}$.\n",
    "\n",
    "- In the $y$-axis, the averaged relative error is computed as $\\sqrt{\\frac{1}{n}\\sum_{i=1}^n \\|x_i^k - x_i^\\star\\|^2/\\|x_i^\\star\\|^2}$"
   ]
  },
  {
   "cell_type": "markdown",
   "metadata": {},
   "source": [
    "### 6.2 Exact Diffusion"
   ]
  },
  {
   "cell_type": "markdown",
   "metadata": {},
   "source": [
    "To solve the dual consensus problem, EXTRA has the following recursions:"
   ]
  },
  {
   "cell_type": "markdown",
   "metadata": {},
   "source": [
    "\\begin{equation*}\n",
    "\\begin{split}\n",
    "y_i^{k+1} & = \\sum_{j=1}^n \\bar{w}_{ij}\\big( 2 y_j^k - y_j^{k-1} - \\alpha (g_i(y_i^{k}) - g_i(y_i^{k-1})) \\big), \\quad k=1,2,\\cdots  \\\\\n",
    "x_i^{k+1} &= - g_i(y_i^{k+1})\n",
    "\\end{split}\n",
    "\\end{equation*}"
   ]
  },
  {
   "cell_type": "markdown",
   "metadata": {},
   "source": [
    "where $g_j(y) = \\nabla F_j(y)$, and we set the initialization $y_i^{1} = y_i^{0} = 0$, and let $g_i(y_i^{0}) = 0$. The weight $\\bar{w}_{ij}$ is defined the same as that in EXTRA algorithm. It is observed that Exact Diffusion is almost the same as EXTRA, except that the combination matrix $\\bar{w}_{ij}$ is also associated with the gradient."
   ]
  },
  {
   "cell_type": "markdown",
   "metadata": {},
   "source": [
    "In this subsection we will try a different way to set up topology and weights."
   ]
  },
  {
   "cell_type": "code",
   "execution_count": 62,
   "metadata": {},
   "outputs": [
    {
     "data": {
      "text/plain": [
       "\u001b[0;31mOut[0:5141]: \u001b[0mTrue"
      ]
     },
     "metadata": {
      "after": [],
      "completed": "2021-01-04T13:43:40.130484",
      "data": {},
      "engine_id": 0,
      "engine_uuid": "95223fc8-5fde8d7b9bbd850e6bf258c8",
      "error": null,
      "execute_input": "\n# set up topology and weights\nG = topology_util.ExponentialGraph(bf.size())\nW = nx.to_numpy_array(G)\nW = (W + np.eye(bf.size()))/2\nG = nx.from_numpy_matrix(W, create_using=nx.DiGraph)\nbf.set_topology(G, is_weighted=True)\n",
      "execute_result": {
       "data": {
        "text/plain": "True"
       },
       "execution_count": 5141,
       "metadata": {}
      },
      "follow": [],
      "msg_id": "1e14c9ca-26ce880d3b8556706037f64a_41137",
      "outputs": [],
      "received": "2021-01-04T13:43:40.137679",
      "started": "2021-01-04T13:43:40.088316",
      "status": "ok",
      "stderr": "",
      "stdout": "",
      "submitted": "2021-01-04T13:43:40.082448"
     },
     "output_type": "display_data"
    },
    {
     "data": {
      "text/plain": [
       "\u001b[0;31mOut[1:5141]: \u001b[0mTrue"
      ]
     },
     "metadata": {
      "after": [],
      "completed": "2021-01-04T13:43:40.131354",
      "data": {},
      "engine_id": 1,
      "engine_uuid": "cc7ddcfb-268a5fa08a3e493bbf8a8644",
      "error": null,
      "execute_input": "\n# set up topology and weights\nG = topology_util.ExponentialGraph(bf.size())\nW = nx.to_numpy_array(G)\nW = (W + np.eye(bf.size()))/2\nG = nx.from_numpy_matrix(W, create_using=nx.DiGraph)\nbf.set_topology(G, is_weighted=True)\n",
      "execute_result": {
       "data": {
        "text/plain": "True"
       },
       "execution_count": 5141,
       "metadata": {}
      },
      "follow": [],
      "msg_id": "1e14c9ca-26ce880d3b8556706037f64a_41138",
      "outputs": [],
      "received": "2021-01-04T13:43:40.142784",
      "started": "2021-01-04T13:43:40.090145",
      "status": "ok",
      "stderr": "",
      "stdout": "",
      "submitted": "2021-01-04T13:43:40.082974"
     },
     "output_type": "display_data"
    },
    {
     "data": {
      "text/plain": [
       "\u001b[0;31mOut[2:5141]: \u001b[0mTrue"
      ]
     },
     "metadata": {
      "after": [],
      "completed": "2021-01-04T13:43:40.130357",
      "data": {},
      "engine_id": 2,
      "engine_uuid": "6cafaf01-37c0368db52f5da6108f74dd",
      "error": null,
      "execute_input": "\n# set up topology and weights\nG = topology_util.ExponentialGraph(bf.size())\nW = nx.to_numpy_array(G)\nW = (W + np.eye(bf.size()))/2\nG = nx.from_numpy_matrix(W, create_using=nx.DiGraph)\nbf.set_topology(G, is_weighted=True)\n",
      "execute_result": {
       "data": {
        "text/plain": "True"
       },
       "execution_count": 5141,
       "metadata": {}
      },
      "follow": [],
      "msg_id": "1e14c9ca-26ce880d3b8556706037f64a_41139",
      "outputs": [],
      "received": "2021-01-04T13:43:40.134126",
      "started": "2021-01-04T13:43:40.091848",
      "status": "ok",
      "stderr": "",
      "stdout": "",
      "submitted": "2021-01-04T13:43:40.084893"
     },
     "output_type": "display_data"
    },
    {
     "data": {
      "text/plain": [
       "\u001b[0;31mOut[3:5141]: \u001b[0mTrue"
      ]
     },
     "metadata": {
      "after": [],
      "completed": "2021-01-04T13:43:40.131682",
      "data": {},
      "engine_id": 3,
      "engine_uuid": "2c0af6a8-53d59b3f0d1629306f07935e",
      "error": null,
      "execute_input": "\n# set up topology and weights\nG = topology_util.ExponentialGraph(bf.size())\nW = nx.to_numpy_array(G)\nW = (W + np.eye(bf.size()))/2\nG = nx.from_numpy_matrix(W, create_using=nx.DiGraph)\nbf.set_topology(G, is_weighted=True)\n",
      "execute_result": {
       "data": {
        "text/plain": "True"
       },
       "execution_count": 5141,
       "metadata": {}
      },
      "follow": [],
      "msg_id": "1e14c9ca-26ce880d3b8556706037f64a_41140",
      "outputs": [],
      "received": "2021-01-04T13:43:40.146250",
      "started": "2021-01-04T13:43:40.092552",
      "status": "ok",
      "stderr": "",
      "stdout": "",
      "submitted": "2021-01-04T13:43:40.085247"
     },
     "output_type": "display_data"
    },
    {
     "data": {
      "text/plain": [
       "\u001b[0;31mOut[4:5141]: \u001b[0mTrue"
      ]
     },
     "metadata": {
      "after": [],
      "completed": "2021-01-04T13:43:40.130768",
      "data": {},
      "engine_id": 4,
      "engine_uuid": "5cf21001-18a59e872ebd7d3c297e5c05",
      "error": null,
      "execute_input": "\n# set up topology and weights\nG = topology_util.ExponentialGraph(bf.size())\nW = nx.to_numpy_array(G)\nW = (W + np.eye(bf.size()))/2\nG = nx.from_numpy_matrix(W, create_using=nx.DiGraph)\nbf.set_topology(G, is_weighted=True)\n",
      "execute_result": {
       "data": {
        "text/plain": "True"
       },
       "execution_count": 5141,
       "metadata": {}
      },
      "follow": [],
      "msg_id": "1e14c9ca-26ce880d3b8556706037f64a_41141",
      "outputs": [],
      "received": "2021-01-04T13:43:40.144543",
      "started": "2021-01-04T13:43:40.091903",
      "status": "ok",
      "stderr": "",
      "stdout": "",
      "submitted": "2021-01-04T13:43:40.085567"
     },
     "output_type": "display_data"
    },
    {
     "data": {
      "text/plain": [
       "\u001b[0;31mOut[5:5141]: \u001b[0mTrue"
      ]
     },
     "metadata": {
      "after": [],
      "completed": "2021-01-04T13:43:40.130528",
      "data": {},
      "engine_id": 5,
      "engine_uuid": "b7b1e688-4eee7901bf97758ec7c07cc7",
      "error": null,
      "execute_input": "\n# set up topology and weights\nG = topology_util.ExponentialGraph(bf.size())\nW = nx.to_numpy_array(G)\nW = (W + np.eye(bf.size()))/2\nG = nx.from_numpy_matrix(W, create_using=nx.DiGraph)\nbf.set_topology(G, is_weighted=True)\n",
      "execute_result": {
       "data": {
        "text/plain": "True"
       },
       "execution_count": 5141,
       "metadata": {}
      },
      "follow": [],
      "msg_id": "1e14c9ca-26ce880d3b8556706037f64a_41142",
      "outputs": [],
      "received": "2021-01-04T13:43:40.141017",
      "started": "2021-01-04T13:43:40.091930",
      "status": "ok",
      "stderr": "",
      "stdout": "",
      "submitted": "2021-01-04T13:43:40.085884"
     },
     "output_type": "display_data"
    },
    {
     "data": {
      "text/plain": [
       "\u001b[0;31mOut[6:5141]: \u001b[0mTrue"
      ]
     },
     "metadata": {
      "after": [],
      "completed": "2021-01-04T13:43:40.130439",
      "data": {},
      "engine_id": 6,
      "engine_uuid": "1e8e4021-ca71d9900c8b13e91b7a5018",
      "error": null,
      "execute_input": "\n# set up topology and weights\nG = topology_util.ExponentialGraph(bf.size())\nW = nx.to_numpy_array(G)\nW = (W + np.eye(bf.size()))/2\nG = nx.from_numpy_matrix(W, create_using=nx.DiGraph)\nbf.set_topology(G, is_weighted=True)\n",
      "execute_result": {
       "data": {
        "text/plain": "True"
       },
       "execution_count": 5141,
       "metadata": {}
      },
      "follow": [],
      "msg_id": "1e14c9ca-26ce880d3b8556706037f64a_41143",
      "outputs": [],
      "received": "2021-01-04T13:43:40.139347",
      "started": "2021-01-04T13:43:40.092020",
      "status": "ok",
      "stderr": "",
      "stdout": "",
      "submitted": "2021-01-04T13:43:40.086154"
     },
     "output_type": "display_data"
    },
    {
     "data": {
      "text/plain": [
       "\u001b[0;31mOut[7:5141]: \u001b[0mTrue"
      ]
     },
     "metadata": {
      "after": [],
      "completed": "2021-01-04T13:43:40.130363",
      "data": {},
      "engine_id": 7,
      "engine_uuid": "b9dcccd4-8b920292f31a0be143a54394",
      "error": null,
      "execute_input": "\n# set up topology and weights\nG = topology_util.ExponentialGraph(bf.size())\nW = nx.to_numpy_array(G)\nW = (W + np.eye(bf.size()))/2\nG = nx.from_numpy_matrix(W, create_using=nx.DiGraph)\nbf.set_topology(G, is_weighted=True)\n",
      "execute_result": {
       "data": {
        "text/plain": "True"
       },
       "execution_count": 5141,
       "metadata": {}
      },
      "follow": [],
      "msg_id": "1e14c9ca-26ce880d3b8556706037f64a_41144",
      "outputs": [],
      "received": "2021-01-04T13:43:40.135986",
      "started": "2021-01-04T13:43:40.092016",
      "status": "ok",
      "stderr": "",
      "stdout": "",
      "submitted": "2021-01-04T13:43:40.086347"
     },
     "output_type": "display_data"
    }
   ],
   "source": [
    "%%px\n",
    "\n",
    "# set up topology and weights\n",
    "G = topology_util.ExponentialGraph(bf.size())\n",
    "W = nx.to_numpy_array(G)\n",
    "W = (W + np.eye(bf.size()))/2\n",
    "G = nx.from_numpy_matrix(W, create_using=nx.DiGraph)\n",
    "bf.set_topology(G, is_weighted=True)"
   ]
  },
  {
   "cell_type": "code",
   "execution_count": 3,
   "metadata": {},
   "outputs": [],
   "source": [
    "%%px\n",
    "\n",
    "# Exact Diffusion\n",
    "def Exact_diffusion_one_recursion(y, gp, yp, ATA, A, b, x_sol, lr):\n",
    "    \n",
    "    x = ATA.mm(A.T.mm(b) - y)\n",
    "    g = -x\n",
    "    \n",
    "    # note that we don't need to explicitly specify options 'self_weight' and 'neighbor_weights' \n",
    "    # here because we have set G as topology and weights with the code:\n",
    "    # bf.set_topology(G, is_weighted=True)\n",
    "    # With the above code, we will use the weights specified by G in the following bf.neighbor_allreduce() function\n",
    "    yn = bf.neighbor_allreduce(2*y - yp - lr*(g - gp), name='y')\n",
    "    gp = g.clone()\n",
    "    yp = y.clone()\n",
    "    y  = yn.clone()\n",
    "    \n",
    "    dist = torch.norm(x - x_sol, p=2)/torch.norm(x_sol, p=2)\n",
    "    averaged_relative_error = bf.allreduce(dist**2, average=True)\n",
    "    record_exact_diffusion.append(torch.sqrt(averaged_relative_error))\n",
    "    \n",
    "    return y, yp, gp"
   ]
  },
  {
   "cell_type": "code",
   "execution_count": 68,
   "metadata": {},
   "outputs": [],
   "source": [
    "%%px\n",
    "\n",
    "# initialization\n",
    "lr = 0.08\n",
    "ATA = torch.inverse(A.T.mm(A))\n",
    "y = torch.zeros(d, 1)\n",
    "yp = torch.zeros(d, 1)\n",
    "gp = torch.zeros(d, 1)\n",
    "record_exact_diffusion = []"
   ]
  },
  {
   "cell_type": "code",
   "execution_count": 69,
   "metadata": {},
   "outputs": [
    {
     "name": "stdout",
     "output_type": "stream",
     "text": [
      "[stdout:1] \n",
      "self weights: 0.625\n",
      "\n",
      "neighbor weights:\n",
      "4 0.125\n",
      "6 0.125\n",
      "7 0.125\n"
     ]
    }
   ],
   "source": [
    "%%px\n",
    "\n",
    "# set topology and generate weight w_bar = (w + 1)/2\n",
    "topology = bf.load_topology()\n",
    "self_weight, neighbor_weights = topology_util.GetRecvWeights(\n",
    "    topology, bf.rank())\n",
    "\n",
    "if bf.rank() == 0:\n",
    "    print('self weights: {}\\n'.format(self_weight))\n",
    "    print('neighbor weights:')\n",
    "    for k, v in neighbor_weights.items():\n",
    "        print(k, v)"
   ]
  },
  {
   "cell_type": "code",
   "execution_count": 72,
   "metadata": {},
   "outputs": [
    {
     "name": "stdout",
     "output_type": "stream",
     "text": [
      "Progress 0/2000\n",
      "Progress 100/2000\n",
      "Progress 200/2000\n",
      "Progress 300/2000\n",
      "Progress 400/2000\n",
      "Progress 500/2000\n",
      "Progress 600/2000\n",
      "Progress 700/2000\n",
      "Progress 800/2000\n",
      "Progress 900/2000\n",
      "Progress 1000/2000\n",
      "Progress 1100/2000\n",
      "Progress 1200/2000\n",
      "Progress 1300/2000\n",
      "Progress 1400/2000\n",
      "Progress 1500/2000\n",
      "Progress 1600/2000\n",
      "Progress 1700/2000\n",
      "Progress 1800/2000\n",
      "Progress 1900/2000\n"
     ]
    }
   ],
   "source": [
    "# run Exact Diffusion\n",
    "maxite = 2000\n",
    "\n",
    "for ite in range(maxite):\n",
    "    \n",
    "    if ite%100 == 0:\n",
    "        print('Progress {}/{}'.format(ite, maxite))\n",
    "        \n",
    "    %px y, yp, gp = Exact_diffusion_one_recursion(y, gp, yp, ATA, A, b, x_sol, lr)"
   ]
  },
  {
   "cell_type": "code",
   "execution_count": 73,
   "metadata": {},
   "outputs": [
    {
     "data": {
      "text/plain": [
       "<matplotlib.legend.Legend at 0x7f43dc943d10>"
      ]
     },
     "execution_count": 73,
     "metadata": {},
     "output_type": "execute_result"
    },
    {
     "data": {
      "image/png": "[encoded data removed]",
      "text/plain": [
       "<Figure size 432x288 with 1 Axes>"
      ]
     },
     "metadata": {
      "needs_background": "light"
     },
     "output_type": "display_data"
    }
   ],
   "source": [
    "# pull averaged relative error list from node 0 \n",
    "record_exact_diffusion_0 = dview.pull('record_exact_diffusion', block=True, targets=0)\n",
    "%matplotlib inline\n",
    "plt.semilogy(record_exact_diffusion_0)\n",
    "plt.xlabel('iteration', fontsize=16)\n",
    "plt.ylabel('relative error',fontsize=16)\n",
    "plt.legend(['Exact Diffusion'],fontsize=16)"
   ]
  },
  {
   "cell_type": "markdown",
   "metadata": {},
   "source": [
    "### 6.3 Gradient tracking"
   ]
  },
  {
   "cell_type": "markdown",
   "metadata": {},
   "source": [
    "To solve the dual consensus problem, gradient tracking has the following recursions:"
   ]
  },
  {
   "cell_type": "markdown",
   "metadata": {},
   "source": [
    "\\begin{equation*}\n",
    "\\begin{split}\n",
    "y_i^{k+1} &= \\sum_{j=1}^n w_{ij}(y_j^k + \\alpha z_j^k) \\\\\n",
    "z_i^{k+1} &= \\sum_{j=1}^n w_{ij}\\big(z_j^k + g_j(y_j^{k+1}) - g_j(y_j^{k})\\big) \\\\\n",
    "x_i^{k+1} &= - g_i(y_i^{k+1})\n",
    "\\end{split}\n",
    "\\end{equation*}"
   ]
  },
  {
   "cell_type": "markdown",
   "metadata": {},
   "source": [
    "where $g_j(y) = \\nabla F_j(y)$ and $z_i^0 = g_i(y_i^0)$"
   ]
  },
  {
   "cell_type": "code",
   "execution_count": 74,
   "metadata": {},
   "outputs": [],
   "source": [
    "%%px\n",
    "\n",
    "# gradient tracking\n",
    "def gradient_tracking_one_recursion(y, z, gp, ATA, A, b, x_sol, lr):\n",
    "    \n",
    "    y = bf.neighbor_allreduce(y - lr*z, name='y')\n",
    "    x = ATA.mm(A.T.mm(b) - y)\n",
    "    g = -x\n",
    "    z = bf.neighbor_allreduce(z + g - gp, name='z')\n",
    "    gp = g.clone()\n",
    "    \n",
    "    dist = torch.norm(x - x_sol, p=2)/torch.norm(x_sol, p=2)\n",
    "    averaged_relative_error = bf.allreduce(dist**2, average=True)\n",
    "    record_gt.append(torch.sqrt(averaged_relative_error))\n",
    "    \n",
    "    return y, z, gp"
   ]
  },
  {
   "cell_type": "code",
   "execution_count": 78,
   "metadata": {},
   "outputs": [],
   "source": [
    "%%px\n",
    "\n",
    "# initialization\n",
    "lr = 0.1\n",
    "ATA = torch.inverse(A.T.mm(A))\n",
    "y = torch.zeros(d, 1)\n",
    "gp = ATA.mm(A.T.mm(b) - y)\n",
    "z = ATA.mm(A.T.mm(b) - y)\n",
    "record_gt = []"
   ]
  },
  {
   "cell_type": "code",
   "execution_count": 81,
   "metadata": {},
   "outputs": [
    {
     "name": "stdout",
     "output_type": "stream",
     "text": [
      "Progress 0/1500\n",
      "Progress 100/1500\n",
      "Progress 200/1500\n",
      "Progress 300/1500\n",
      "Progress 400/1500\n",
      "Progress 500/1500\n",
      "Progress 600/1500\n",
      "Progress 700/1500\n",
      "Progress 800/1500\n",
      "Progress 900/1500\n",
      "Progress 1000/1500\n",
      "Progress 1100/1500\n",
      "Progress 1200/1500\n",
      "Progress 1300/1500\n",
      "Progress 1400/1500\n"
     ]
    }
   ],
   "source": [
    "# run gradient tracking\n",
    "maxite = 1500\n",
    "\n",
    "for ite in range(maxite):\n",
    "    \n",
    "    if ite%100 == 0:\n",
    "        print('Progress {}/{}'.format(ite, maxite))\n",
    "        \n",
    "    %px y, z, gp = gradient_tracking_one_recursion(y, z, gp, ATA, A, b, x_sol, lr)"
   ]
  },
  {
   "cell_type": "code",
   "execution_count": 82,
   "metadata": {},
   "outputs": [
    {
     "data": {
      "text/plain": [
       "<matplotlib.legend.Legend at 0x7f43ddf34210>"
      ]
     },
     "execution_count": 82,
     "metadata": {},
     "output_type": "execute_result"
    },
    {
     "data": {
      "image/png": "[encoded data removed]",
      "text/plain": [
       "<Figure size 432x288 with 1 Axes>"
      ]
     },
     "metadata": {
      "needs_background": "light"
     },
     "output_type": "display_data"
    }
   ],
   "source": [
    "# pull averaged relative error list from node 0 \n",
    "record_gt_0 = dview.pull('record_gt', block=True, targets=0)\n",
    "%matplotlib inline\n",
    "plt.semilogy(record_gt_0)\n",
    "plt.xlabel('iteration', fontsize=16)\n",
    "plt.ylabel('relative error',fontsize=16)\n",
    "plt.legend(['Gradient Tracking'],fontsize=16)"
   ]
  },
  {
   "cell_type": "markdown",
   "metadata": {},
   "source": [
    "## 7. References"
   ]
  },
  {
   "cell_type": "markdown",
   "metadata": {},
   "source": [
    "\\[1\\] S. Boyd, N. Parikh, E. Chu, B. Peleato, and J. Eckstein, *Distributed Optimization and Statistical Learning via the Alternating Direction Method of Multipliers*, Foundations and Trends in Machine Learning, 3(1):1–122, 2011."
   ]
  },
  {
   "cell_type": "markdown",
   "metadata": {},
   "source": [
    "\\[2\\] W. Shi, Q. Ling, G. Wu, and W. Yin, *EXTRA: An Exact First-Order Algorithm for Decentralized Consensus Optimization*, SIAM Journal on Optimization 25, no. 2 (2015): 944-966."
   ]
  },
  {
   "cell_type": "markdown",
   "metadata": {},
   "source": [
    "\\[3\\] K. Yuan, B. Ying, X. Zhao, and A.H. Sayed, *Exact Diffusion for Distributed Optimization and Learning—Part I: Algorithm Development*, IEEE Transactions on Signal Processing, 67(3), pp.708-723."
   ]
  },
  {
   "cell_type": "markdown",
   "metadata": {},
   "source": [
    "\\[4\\] A. Nedic, A. Olshevsky, and W. Shi, *Achieving Geometric Convergence for Distributed Optimization over Time-varying graphs\", SIAM Journal on Optimization 27.4 (2017): 2597-2633."
   ]
  },
  {
   "cell_type": "code",
   "execution_count": null,
   "metadata": {},
   "outputs": [],
   "source": []
  }
 ],
 "metadata": {
  "kernelspec": {
   "display_name": "Python 3",
   "language": "python",
   "name": "python3"
  },
  "language_info": {
   "codemirror_mode": {
    "name": "ipython",
    "version": 3
   },
   "file_extension": ".py",
   "mimetype": "text/x-python",
   "name": "python",
   "nbconvert_exporter": "python",
   "pygments_lexer": "ipython3",
   "version": "3.7.7"
  }
 },
 "nbformat": 4,
 "nbformat_minor": 4
}
